{
 "cells": [
  {
   "cell_type": "markdown",
   "metadata": {},
   "source": [
    "https://medium.com/backticks-tildes/how-to-scrape-data-from-a-website-ceda61204f67"
   ]
  },
  {
   "cell_type": "code",
   "execution_count": 14,
   "metadata": {
    "collapsed": true
   },
   "outputs": [],
   "source": [
    "#importar as bibliotecas\n",
    "\n",
    "import requests\n",
    "from bs4 import BeautifulSoup"
   ]
  },
  {
   "cell_type": "code",
   "execution_count": 15,
   "metadata": {
    "collapsed": true
   },
   "outputs": [],
   "source": [
    "#fazer a requisição da url\n",
    "\n",
    "url = requests.get('http://177.74.60.161/acervodigital_obrasraras/livro/index.php?busca=.')"
   ]
  },
  {
   "cell_type": "code",
   "execution_count": 16,
   "metadata": {
    "collapsed": true
   },
   "outputs": [],
   "source": [
    "#usar o BeautifulSoup para ler a url\n",
    "\n",
    "bs = BeautifulSoup(url.text, 'html.parser')"
   ]
  },
  {
   "cell_type": "code",
   "execution_count": 17,
   "metadata": {},
   "outputs": [
    {
     "name": "stdout",
     "output_type": "stream",
     "text": [
      "<!DOCTYPE html PUBLIC \"-//W3C//DTD XHTML 1.0 Transitional//EN\" \"http://www.w3.org/TR/xhtml1/DTD/xhtml1-transitional.dtd\">\n",
      "\n",
      "<meta content=\"width=device-width, initial-scale=1\" name=\"viewport\"/>\n",
      "<html xmlns=\"http://www.w3.org/1999/xhtml\">\n",
      "<head>\n",
      "<script src=\"js/jquery-1.8.3.min.js\" type=\"text/javascript\"></script>\n",
      "<script src=\"js/jquery.autocomplete.js\" type=\"text/javascript\"></script>\n",
      "<meta content=\"text/html; charset=utf-8\" http-equiv=\"Content-Type\">\n",
      "<meta content=\"text/html; charset=utf-8\" http-equiv=\"Content-Type\"/>\n",
      "<script type=\"text/javascript\">\r\n",
      "  $().ready(function(){\r\n",
      "\t$(\"#busca\").autocomplete(\"ajax/busca.php\", {\r\n",
      "\t\twidth: 395,\r\n",
      "\t\tmatchContains: false,\r\n",
      "\t\tselectFirst: false\r\n",
      "\t});\r\n",
      "  });\r\n",
      "</script>\n",
      "<title>Obras Raras - Acervo Digital Livro</title>\n",
      "<link href=\"css/style.css\" rel=\"stylesheet\" type=\"text/css\"/>\n",
      "<link href=\"style.css\" rel=\"stylesheet\"/>\n",
      "</meta></head>\n",
      "<body>\n",
      "<script>\r\n",
      "  (function(i,s,o,g,r,a,m){i['GoogleAnalyticsObject']=r;i[r]=i[r]||function(){\r\n",
      "  (i[r].q=i[r].q||[]).push(arguments)},i[r].l=1*new Date();a=s.createElement(o),\r\n",
      "  m=s.getElementsByTagName(o)[0];a.async=1;a.src=g;m.parentNode.insertBefore(a,m)\r\n",
      "  })(window,document,'script','https://www.google-analytics.com/analytics.js','ga');\r\n",
      "\r\n",
      "  ga('create', 'UA-84148436-1', 'auto');\r\n",
      "  ga('send', 'pageview');\r\n",
      "\r\n",
      "</script><div id=\"footer-right\">\n",
      "<ul>\n",
      "<li><a href=\"index.php\">Inicial</a></li>\n",
      "<li><a href=\"pesquisa.htm\">Como Pesquisar</a></li>\n",
      "<li><a href=\"#\"></a></li>\n",
      "</ul>\n",
      "</div>\n",
      "<div id=\"header-wrap\">\n",
      "<div id=\"conteudo\">\n",
      "<div class=\"titulo\"><img height=\"53\" src=\"img/acervo_livro.png\" width=\"391\"/></div>\n",
      "<div class=\"div\">\n",
      "<form action=\"index.php\" method=\"get\">\n",
      "<input class=\"busca\" id=\"busca\" name=\"busca\" onblur=\"if (this.value == '') this.value = 'consulta no acervo digitalizado...';\" onfocus=\"if (this.value == 'consulta no acervo digitalizado...') this.value = '';\" type=\"text\" value=\"consulta no acervo digitalizado...\"/>\n",
      "<input class=\"btn\" title=\"Pesquisar\" type=\"submit\" value=\"\"/>\n",
      "</form>\n",
      "</div>\n",
      "<div class=\"result\">\n",
      "<p>Importante_ As obras digitalizadas podem ser visualizadas de forma geral,  seguindo o procedimento:</p>\n",
      "<p>na caixa de pesquisa digite ponto (.) e  tecle Enter, o resultados mostra o total de obras digitalizadas.</p>\n",
      "<p> </p>\n",
      "<p> </p>\n",
      "<p>\n",
      "<div class=\"info\">Resultados: <b>250</b></div><ul> <li>\n",
      "<a href=\"http://www.fcp.pa.gov.br/2016-11-24-18-22-47/memorias-de-um-revolucionario-a-revolucao-de-1930-prodromos-e-consequencias\" target=\"_blank\"><img alt=\"\" src=\"thumb/img_610.jpg\"/></a>\n",
      "<h2><a href=\"http://www.fcp.pa.gov.br/2016-11-24-18-22-47/memorias-de-um-revolucionario-a-revolucao-de-1930-prodromos-e-consequencias\" target=\"_blank\">LEITE, Aureliano. Memórias de um revolucionário: a revolução de 1930 pródromos e consequências. 1. ed. [S. Paulo]: s.n., 1931. 262 p.</a></h2>\n",
      "<span><a href=\"http://www.fcp.pa.gov.br/2016-11-24-18-22-47/memorias-de-um-revolucionario-a-revolucao-de-1930-prodromos-e-consequencias\" target=\"_blank\">Nome do autor acima do título; Encadernação mutilada; Assinatura ilégivel a lápis na pagina 5; Carimbo da Biblioteca do Conselho Estadual de Cultura na folha de rosto.</a></span>\n",
      "<span><a href=\"http://www.fcp.pa.gov.br/2016-11-24-18-22-47/memorias-de-um-revolucionario-a-revolucao-de-1930-prodromos-e-consequencias\" target=\"_blank\">Literatura brasileira - História e crítica | Historiografia literária</a></span>\n",
      "</li>\n",
      "<li>\n",
      "<a href=\"http://www.fcp.pa.gov.br/2016-11-24-18-22-47/homenagem-aos-grandes-patriotas-que-pugnaram-pela-causa-da-independencia-do-brasil-e-viram-na-realizada-com-os-actos-solennes-de-adhesao-de-11-de-agosto-de-1823\" target=\"_blank\"><img alt=\"\" src=\"thumb/img_609.jpg\"/></a>\n",
      "<h2><a href=\"http://www.fcp.pa.gov.br/2016-11-24-18-22-47/homenagem-aos-grandes-patriotas-que-pugnaram-pela-causa-da-independencia-do-brasil-e-viram-na-realizada-com-os-actos-solennes-de-adhesao-de-11-de-agosto-de-1823\" target=\"_blank\">INSTITUTO HISTÓRICO E GEOGRÁPHICO DO PARÁ. Homenagem aos grandes patriotas que pugnaram pela causa da independência do Brasil e viram-na realizada com os actos solennes de adhesão de 11 de agosto de 1823. S.l.: s.n., [1923?]. 11 [81] p.</a></h2>\n",
      "<span><a href=\"http://www.fcp.pa.gov.br/2016-11-24-18-22-47/homenagem-aos-grandes-patriotas-que-pugnaram-pela-causa-da-independencia-do-brasil-e-viram-na-realizada-com-os-actos-solennes-de-adhesao-de-11-de-agosto-de-1823\" target=\"_blank\">Encadenação mutilada; Encadernação em brochura; Carimbo da Biblioteca do Conselho Estadual de Cultura na capa do exemplar.</a></span>\n",
      "<span><a href=\"http://www.fcp.pa.gov.br/2016-11-24-18-22-47/homenagem-aos-grandes-patriotas-que-pugnaram-pela-causa-da-independencia-do-brasil-e-viram-na-realizada-com-os-actos-solennes-de-adhesao-de-11-de-agosto-de-1823\" target=\"_blank\">Pará (Estado) -  História | Pará (Estado) - Independência</a></span>\n",
      "</li>\n",
      "<li>\n",
      "<a href=\"http://www.fcp.pa.gov.br/2016-11-24-18-22-47/instituto-julio-cesar-estatutos-fundado-a-9-de-fevereiro-de-1915\" target=\"_blank\"><img alt=\"\" src=\"thumb/img_608.jpg\"/></a>\n",
      "<h2><a href=\"http://www.fcp.pa.gov.br/2016-11-24-18-22-47/instituto-julio-cesar-estatutos-fundado-a-9-de-fevereiro-de-1915\" target=\"_blank\">INSTITUTO JULIO CESAR. Estatutos: fundado a 9 de fevereiro de 1915; Diretor Prof. Raymundo Proença. Belém, PA: s.n., [191-?]. 11 p.</a></h2>\n",
      "<span><a href=\"http://www.fcp.pa.gov.br/2016-11-24-18-22-47/instituto-julio-cesar-estatutos-fundado-a-9-de-fevereiro-de-1915\" target=\"_blank\">Vinheta na página de rosto; Encadernação mutilada; Carimbo da Biblioteca do Conselho Estadual de Cultura na folha de rosto e ultima de texto.</a></span>\n",
      "<span><a href=\"http://www.fcp.pa.gov.br/2016-11-24-18-22-47/instituto-julio-cesar-estatutos-fundado-a-9-de-fevereiro-de-1915\" target=\"_blank\">Educação - Estatuto</a></span>\n",
      "</li>\n",
      "<li>\n",
      "<a href=\"http://www.fcp.pa.gov.br/2016-11-24-18-22-47/synopsis-historica-litteraturae-latinae\" target=\"_blank\"><img alt=\"\" src=\"thumb/img_607.jpg\"/></a>\n",
      "<h2><a href=\"http://www.fcp.pa.gov.br/2016-11-24-18-22-47/synopsis-historica-litteraturae-latinae\" target=\"_blank\">LIMA, Hélio Frota. Synopsis historica: litteraturae latinae. These instar pro concursu ad cathedram ejusdem linguae in qua scripta est.. Belém, PA: s.n., 1920. 27 p.</a></h2>\n",
      "<span><a href=\"http://www.fcp.pa.gov.br/2016-11-24-18-22-47/synopsis-historica-litteraturae-latinae\" target=\"_blank\">Nome do autor acima do título; Encadernação em brochura.</a></span>\n",
      "<span><a href=\"http://www.fcp.pa.gov.br/2016-11-24-18-22-47/synopsis-historica-litteraturae-latinae\" target=\"_blank\">Literatura latina</a></span>\n",
      "</li>\n",
      "<li>\n",
      "<a href=\"http://www.fcp.pa.gov.br/2016-11-24-18-22-47/contos-e-lendas-do-brasil\" target=\"_blank\"><img alt=\"\" src=\"thumb/img_606.jpg\"/></a>\n",
      "<h2><a href=\"http://www.fcp.pa.gov.br/2016-11-24-18-22-47/contos-e-lendas-do-brasil\" target=\"_blank\">ORICO, Oswaldo . Contos e lendas do Brasil. São Paulo: Melhoramentos, [1930], 111 p.</a></h2>\n",
      "<span><a href=\"http://www.fcp.pa.gov.br/2016-11-24-18-22-47/contos-e-lendas-do-brasil\" target=\"_blank\">Encadernação em brochura.</a></span>\n",
      "<span><a href=\"http://www.fcp.pa.gov.br/2016-11-24-18-22-47/contos-e-lendas-do-brasil\" target=\"_blank\">Ficção brasileira | Ficção paraense</a></span>\n",
      "</li>\n",
      "<li>\n",
      "<a href=\"http://www.fcp.pa.gov.br/2016-11-24-18-22-47/as-aventuras-de-bemquisto-romance-heroi-comico\" target=\"_blank\"><img alt=\"\" src=\"thumb/img_605.jpg\"/></a>\n",
      "<h2><a href=\"http://www.fcp.pa.gov.br/2016-11-24-18-22-47/as-aventuras-de-bemquisto-romance-heroi-comico\" target=\"_blank\">DUBOIS, Florêncio. As aventuras de bemquisto: romance herói-comico. Pará: Clássica, 1925. 229 p.</a></h2>\n",
      "<span><a href=\"http://www.fcp.pa.gov.br/2016-11-24-18-22-47/as-aventuras-de-bemquisto-romance-heroi-comico\" target=\"_blank\">Vinheta na folha de rosto; Dedicatória manuscrita à tinta do autor a Eustachio de Azevedo na folha de rosto.</a></span>\n",
      "<span><a href=\"http://www.fcp.pa.gov.br/2016-11-24-18-22-47/as-aventuras-de-bemquisto-romance-heroi-comico\" target=\"_blank\">Romance brasileiro Pará | Romance paraense</a></span>\n",
      "</li>\n",
      "<li>\n",
      "<a href=\"http://www.fcp.pa.gov.br/2016-11-24-18-22-47/a-conversao-de-philemon-e-ariano-oratorio-em-tres-actos\" target=\"_blank\"><img alt=\"\" src=\"thumb/img_604.jpg\"/></a>\n",
      "<h2><a href=\"http://www.fcp.pa.gov.br/2016-11-24-18-22-47/a-conversao-de-philemon-e-ariano-oratorio-em-tres-actos\" target=\"_blank\">BAENA, Antônio Ladislau Monteiro. A Conversão de Philemon, e Ariano: oratorio em tres actos. Pará: Typographia de Santarem e Filho, 1850. 61 p.</a></h2>\n",
      "<span><a href=\"http://www.fcp.pa.gov.br/2016-11-24-18-22-47/a-conversao-de-philemon-e-ariano-oratorio-em-tres-actos\" target=\"_blank\">Vinheta na folha de rosto, Encadernação com lombada em couro, com nervuras gravada em dourado, Exemplar blocado por ação de fungos.</a></span>\n",
      "<span><a href=\"http://www.fcp.pa.gov.br/2016-11-24-18-22-47/a-conversao-de-philemon-e-ariano-oratorio-em-tres-actos\" target=\"_blank\">Teatro paraense Séc. XIX | Teatro (Literatura)</a></span>\n",
      "</li>\n",
      "<li>\n",
      "<a href=\"http://www.fcp.pa.gov.br/2016-11-24-18-22-47/de-capa-e-espada\" target=\"_blank\"><img alt=\"\" src=\"thumb/img_603.jpg\"/></a>\n",
      "<h2><a href=\"http://www.fcp.pa.gov.br/2016-11-24-18-22-47/de-capa-e-espada\" target=\"_blank\">AZEVEDO, J. Eustachio de Jacques Rolla, pseud. De capa e espada.... Belém, PA: J. A. Teixeira Pinto, [19--?]. 189 p.</a></h2>\n",
      "<span><a href=\"http://www.fcp.pa.gov.br/2016-11-24-18-22-47/de-capa-e-espada\" target=\"_blank\">Nome do autor acima do título; Encadernação em brochura; Dedicatoria manuscrita a lápis do autor a Olavo Nunes; carimbo da Biblioteca Olavo Nunes na falsa folha de rosto.</a></span>\n",
      "<span><a href=\"http://www.fcp.pa.gov.br/2016-11-24-18-22-47/de-capa-e-espada\" target=\"_blank\">Contos paraenses | Contos brasileiros</a></span>\n",
      "</li>\n",
      "<li>\n",
      "<a href=\"http://www.fcp.pa.gov.br/2016-11-24-18-22-47/sem-valor-para-troco\" target=\"_blank\"><img alt=\"\" src=\"thumb/img_602.jpg\"/></a>\n",
      "<h2><a href=\"http://www.fcp.pa.gov.br/2016-11-24-18-22-47/sem-valor-para-troco\" target=\"_blank\">FAC-TOTUM, pseud. Sem valor para trôco. Belém, PA: J.B. dos Santos, 1924. 96 p.</a></h2>\n",
      "<span><a href=\"http://www.fcp.pa.gov.br/2016-11-24-18-22-47/sem-valor-para-troco\" target=\"_blank\">Vinheta na folha de rosto; Encadernação em brochura; Dedicatoria manuscrita a tinta na folha de rosto; Carimbo da Biblioteca Olavo Nunes na capa e folha de guarda e página 3.</a></span>\n",
      "<span><a href=\"http://www.fcp.pa.gov.br/2016-11-24-18-22-47/sem-valor-para-troco\" target=\"_blank\">Crônicas brasileiras | Crônicas paraenses</a></span>\n",
      "</li>\n",
      "<li>\n",
      "<a href=\"http://www.fcp.pa.gov.br/2016-11-24-18-22-47/cultura-do-tabaco-breves-nocoes-ou-modo-de-bem-fabrical-o-3\" target=\"_blank\"><img alt=\"\" src=\"thumb/img_601.jpg\"/></a>\n",
      "<h2><a href=\"http://www.fcp.pa.gov.br/2016-11-24-18-22-47/cultura-do-tabaco-breves-nocoes-ou-modo-de-bem-fabrical-o-3\" target=\"_blank\">LADISLAU, Alfredo. Terra immatura. 3. ed. Rio de Janeiro: Civilização Brasileira, 1933. 234 p.</a></h2>\n",
      "<span><a href=\"http://www.fcp.pa.gov.br/2016-11-24-18-22-47/cultura-do-tabaco-breves-nocoes-ou-modo-de-bem-fabrical-o-3\" target=\"_blank\">Inclui índice. Nome do autor acima do título; Carimbo do Conselho Estadual de Cultura na folha de rosto.</a></span>\n",
      "<span><a href=\"http://www.fcp.pa.gov.br/2016-11-24-18-22-47/cultura-do-tabaco-breves-nocoes-ou-modo-de-bem-fabrical-o-3\" target=\"_blank\">Ficção brasileira | Ficção paraense</a></span>\n",
      "</li>\n",
      "<li>\n",
      "<a href=\"http://fcp.pa.gov.br/2016-11-24-18-22-47/contos-singelos\" target=\"_blank\"><img alt=\"\" src=\"thumb/img_600.jpg\"/></a>\n",
      "<h2><a href=\"http://fcp.pa.gov.br/2016-11-24-18-22-47/contos-singelos\" target=\"_blank\">DUBOIS, Florêncio. Contos singelos. [S.l.]: Typ. Besnard Freres, 1921. 248 p.</a></h2>\n",
      "<span><a href=\"http://fcp.pa.gov.br/2016-11-24-18-22-47/contos-singelos\" target=\"_blank\">Inclui índice. Encadernação em brochura; Dedicatória manuscrita à tinta do autor a Eustachio de Azevedo na folha de rosto.</a></span>\n",
      "<span><a href=\"http://fcp.pa.gov.br/2016-11-24-18-22-47/contos-singelos\" target=\"_blank\">Contos brasileiros | Contos paraenses</a></span>\n",
      "</li>\n",
      "<li>\n",
      "<a href=\"http://fcp.pa.gov.br/2016-11-24-18-22-47/direito-contra-o-direito-ou-o-estado-sobre-tudo-refutacao-da-theoria-dos-politicos-na-questao-religiosa-seguida-da-resposta-ao-supremo-tribunal-de-justica\" target=\"_blank\"><img alt=\"\" src=\"thumb/img_599.jpg\"/></a>\n",
      "<h2><a href=\"http://fcp.pa.gov.br/2016-11-24-18-22-47/direito-contra-o-direito-ou-o-estado-sobre-tudo-refutacao-da-theoria-dos-politicos-na-questao-religiosa-seguida-da-resposta-ao-supremo-tribunal-de-justica\" target=\"_blank\">COSTA, Antônio de Macedo. Direito contra o direito ou o estado sobre tudo: refutação da theoria dos politicos na questão religiosa seguida da resposta ao Supremo Tribunal de Justiça. Porto, Portugal: Livraria Internacional, 1875. 266 p.</a></h2>\n",
      "<span><a href=\"http://fcp.pa.gov.br/2016-11-24-18-22-47/direito-contra-o-direito-ou-o-estado-sobre-tudo-refutacao-da-theoria-dos-politicos-na-questao-religiosa-seguida-da-resposta-ao-supremo-tribunal-de-justica\" target=\"_blank\">Assinaturas: 1-16(8)-17(1); Encadernação em couro com filetes gravados em dourado</a></span>\n",
      "<span><a href=\"http://fcp.pa.gov.br/2016-11-24-18-22-47/direito-contra-o-direito-ou-o-estado-sobre-tudo-refutacao-da-theoria-dos-politicos-na-questao-religiosa-seguida-da-resposta-ao-supremo-tribunal-de-justica\" target=\"_blank\">Direito Canônico Séc. XIX | Direito eclesiástico Séc. XIX | Igreja e Estado Brasil</a></span>\n",
      "</li>\n",
      "<li>\n",
      "<a href=\"http://fcp.pa.gov.br/2016-11-24-18-22-47/notas-a-entrevista-do-dr-dionysio-bentes-com-ampliacoes-dos-topicos-estampados-na-folha-do-norte\" target=\"_blank\"><img alt=\"\" src=\"thumb/img_598.jpg\"/></a>\n",
      "<h2><a href=\"http://fcp.pa.gov.br/2016-11-24-18-22-47/notas-a-entrevista-do-dr-dionysio-bentes-com-ampliacoes-dos-topicos-estampados-na-folha-do-norte\" target=\"_blank\">GENTIL, Alcides. Notas á entrevista do Dr. Dionysio Bentes: com ampliações dos topicos estampados na Folha do Norte. Pará: Livraria Clássica, 1925. 59 p.</a></h2>\n",
      "<span><a href=\"http://fcp.pa.gov.br/2016-11-24-18-22-47/notas-a-entrevista-do-dr-dionysio-bentes-com-ampliacoes-dos-topicos-estampados-na-folha-do-norte\" target=\"_blank\">Nome do autor acima do título; Vinheta na folha de rosto; Encadernação em brochura.</a></span>\n",
      "<span><a href=\"http://fcp.pa.gov.br/2016-11-24-18-22-47/notas-a-entrevista-do-dr-dionysio-bentes-com-ampliacoes-dos-topicos-estampados-na-folha-do-norte\" target=\"_blank\">Administração pública Pará</a></span>\n",
      "</li>\n",
      "<li>\n",
      "<a href=\"http://fcp.pa.gov.br/2016-11-24-18-22-47/vendas-de-borracha-acreana\" target=\"_blank\"><img alt=\"\" src=\"thumb/img_597.jpg\"/></a>\n",
      "<h2><a href=\"http://fcp.pa.gov.br/2016-11-24-18-22-47/vendas-de-borracha-acreana\" target=\"_blank\">LIMA, Eládio. Vendas de borracha acreana: supposta infracção do regulamento do sello: memorial apresentado á Associação Commercial do Pará. Belém: Typ. da Livraria Gillet, 1928. 19 p.</a></h2>\n",
      "<span><a href=\"http://fcp.pa.gov.br/2016-11-24-18-22-47/vendas-de-borracha-acreana\" target=\"_blank\">Encadernação em brochura.</a></span>\n",
      "<span><a href=\"http://fcp.pa.gov.br/2016-11-24-18-22-47/vendas-de-borracha-acreana\" target=\"_blank\">Borracha - Economia Amazônia | Borracha - Comércio Acre (Estado) - Pará</a></span>\n",
      "</li>\n",
      "<li>\n",
      "<a href=\"http://fcp.pa.gov.br/2016-11-24-18-22-47/nocoes-de-historia-do-para-da-conquistas-e-colonizacao-a-independencia\" target=\"_blank\"><img alt=\"\" src=\"thumb/img_596.jpg\"/></a>\n",
      "<h2><a href=\"http://fcp.pa.gov.br/2016-11-24-18-22-47/nocoes-de-historia-do-para-da-conquistas-e-colonizacao-a-independencia\" target=\"_blank\">CRUZ, Ernesto. Noções de história do Pará: da conquistas e colonização á independência. [S.I]: Officinas Graphicas da Livraria Internacional, 1937. 189p.</a></h2>\n",
      "<span><a href=\"http://fcp.pa.gov.br/2016-11-24-18-22-47/nocoes-de-historia-do-para-da-conquistas-e-colonizacao-a-independencia\" target=\"_blank\">Inclui índice Editora retirada do colofão; Encadernação com lombada em tecido.</a></span>\n",
      "<span><a href=\"http://fcp.pa.gov.br/2016-11-24-18-22-47/nocoes-de-historia-do-para-da-conquistas-e-colonizacao-a-independencia\" target=\"_blank\">Pará - História</a></span>\n",
      "</li>\n",
      "<li>\n",
      "<a href=\"http://www.fcp.pa.gov.br/2016-11-24-18-22-47/a-fundacao-de-belem-ligeira\" target=\"_blank\"><img alt=\"\" src=\"thumb/img_595.jpg\"/></a>\n",
      "<h2><a href=\"http://www.fcp.pa.gov.br/2016-11-24-18-22-47/a-fundacao-de-belem-ligeira\" target=\"_blank\">AMARAL, José Ribeiro do. A Fundação de Belém: ligeira resposta ao estudo historico do Snr. Candido Costa, reivindicação historica, consoante a narrativa do historiador portuguez Bernardo Pereira de Berredo que fôra governador e capitão-general do Estado do Maranhão nos annos de 1718-1722. Belém, PA: J. Pires, 1916. 35 p.</a></h2>\n",
      "<span><a href=\"http://www.fcp.pa.gov.br/2016-11-24-18-22-47/a-fundacao-de-belem-ligeira\" target=\"_blank\">Vinheta na página de rosto; assinatura a tinta não identificada na página de rosto, e página 5 do ex. 1; exemplar 1 pertenceu a coleção Haroldo Maranhão; carimbo da Biblioteca do Conselho Estadual de Cultura na página de rosto.</a></span>\n",
      "<span><a href=\"http://www.fcp.pa.gov.br/2016-11-24-18-22-47/a-fundacao-de-belem-ligeira\" target=\"_blank\">História Pará | Belém (PA) - História - 1718-1722</a></span>\n",
      "</li>\n",
      "<li>\n",
      "<a href=\"http://fcp.pa.gov.br/2016-11-24-18-22-47/album-operacao-amazonia\" target=\"_blank\"><img alt=\"\" src=\"thumb/img_594.jpg\"/></a>\n",
      "<h2><a href=\"http://fcp.pa.gov.br/2016-11-24-18-22-47/album-operacao-amazonia\" target=\"_blank\">PARÁ. GOVERNADOR (1966-1971 : ALACID NUNES). Operação Amazônia: álbum. [S.l.]: [s.n.], 1967. v. 1 [123] p.</a></h2>\n",
      "<span><a href=\"http://fcp.pa.gov.br/2016-11-24-18-22-47/album-operacao-amazonia\" target=\"_blank\">Texto com cercadura; Encadernação em brochura.</a></span>\n",
      "<span><a href=\"http://fcp.pa.gov.br/2016-11-24-18-22-47/album-operacao-amazonia\" target=\"_blank\">História Amazônia</a></span>\n",
      "</li>\n",
      "<li>\n",
      "<a href=\"http://www.fcp.pa.gov.br/2016-11-24-18-22-47/carta-pastoral-do-exm-bispo-do-para-d-antonio-de-macedo-costa-explicando-a-seus-diocesanos-a-razao-do-actual-conflicto\" target=\"_blank\"><img alt=\"\" src=\"thumb/img_593.jpg\"/></a>\n",
      "<h2><a href=\"http://www.fcp.pa.gov.br/2016-11-24-18-22-47/carta-pastoral-do-exm-bispo-do-para-d-antonio-de-macedo-costa-explicando-a-seus-diocesanos-a-razao-do-actual-conflicto\" target=\"_blank\">IGREJA CATÓLICA. Diocese de Belém do Pará. Bispo (1859-1890: Macedo Costa). Carta pastoral do exm. bispo do Pará D. Antônio de Macedo Costa: explicando a seus diocesanos a razão do actual conflicto. Rio de Janeiro: Typographia do Apostolo, 1874. 55 p.</a></h2>\n",
      "<span><a href=\"http://www.fcp.pa.gov.br/2016-11-24-18-22-47/carta-pastoral-do-exm-bispo-do-para-d-antonio-de-macedo-costa-explicando-a-seus-diocesanos-a-razao-do-actual-conflicto\" target=\"_blank\">Vinheta na capa e folha de rosto; Encadernação em brochura; Carimbo do Conselho Estadual de Cultura na folha de rosto.</a></span>\n",
      "<span><a href=\"http://www.fcp.pa.gov.br/2016-11-24-18-22-47/carta-pastoral-do-exm-bispo-do-para-d-antonio-de-macedo-costa-explicando-a-seus-diocesanos-a-razao-do-actual-conflicto\" target=\"_blank\">Igreja Católica - Pará - Cartas e instruções pastorais</a></span>\n",
      "</li>\n",
      "<li>\n",
      "<a href=\"http://www.fcp.pa.gov.br/2016-11-24-18-22-47/carta-pastoral-do-exm-e-revm-sr-bispo-do-para-e-amasonas-publicando-o-jubileu-em-sua-diocese-no-anno-de-1875\" target=\"_blank\"><img alt=\"\" src=\"thumb/img_592.jpg\"/></a>\n",
      "<h2><a href=\"http://www.fcp.pa.gov.br/2016-11-24-18-22-47/carta-pastoral-do-exm-e-revm-sr-bispo-do-para-e-amasonas-publicando-o-jubileu-em-sua-diocese-no-anno-de-1875\" target=\"_blank\">IGREJA CATÓLICA. Diocese de Belém do Gram-Pará. Bispo (1859-1890 : Macedo Costa). Carta pastoral do exm. e revm. sr. Bispo do Pará e Amasonas, publicando o jubileu em sua diocese no anno de 1875. Belém: Typ. da Boa-Nova, 1875. 30 p.</a></h2>\n",
      "<span><a href=\"http://www.fcp.pa.gov.br/2016-11-24-18-22-47/carta-pastoral-do-exm-e-revm-sr-bispo-do-para-e-amasonas-publicando-o-jubileu-em-sua-diocese-no-anno-de-1875\" target=\"_blank\">Brasão eclesiástico na folha de rosto.</a></span>\n",
      "<span><a href=\"http://www.fcp.pa.gov.br/2016-11-24-18-22-47/carta-pastoral-do-exm-e-revm-sr-bispo-do-para-e-amasonas-publicando-o-jubileu-em-sua-diocese-no-anno-de-1875\" target=\"_blank\">Igreja Católica - Pará - Cartas e instruções pastorais</a></span>\n",
      "</li>\n",
      "<li>\n",
      "<a href=\"http://www.fcp.pa.gov.br/2016-11-24-18-22-47/programma-de-ensino-da-2-cadeira-do-1-anno-direito-romano\" target=\"_blank\"><img alt=\"\" src=\"thumb/img_591.jpg\"/></a>\n",
      "<h2><a href=\"http://www.fcp.pa.gov.br/2016-11-24-18-22-47/programma-de-ensino-da-2-cadeira-do-1-anno-direito-romano\" target=\"_blank\">FIGUEIREDO, Amazonas de. Programma de Ensino da 2.ª cadeira do 1.º anno: direito romano. Pará: Faculdade Livre de Direito, 1927. 21 p.</a></h2>\n",
      "<span><a href=\"http://www.fcp.pa.gov.br/2016-11-24-18-22-47/programma-de-ensino-da-2-cadeira-do-1-anno-direito-romano\" target=\"_blank\">Encadernação em brochura.</a></span>\n",
      "<span><a href=\"http://www.fcp.pa.gov.br/2016-11-24-18-22-47/programma-de-ensino-da-2-cadeira-do-1-anno-direito-romano\" target=\"_blank\">Direito romano Pará</a></span>\n",
      "</li>\n",
      "</ul>\n",
      "<div class=\"paginacao\"> <a href=\"/acervodigital_obrasraras/livro/index.php?busca=.&amp;pagina=1\">1</a> <a href=\"/acervodigital_obrasraras/livro/index.php?busca=.&amp;pagina=2\">2</a> <a href=\"/acervodigital_obrasraras/livro/index.php?busca=.&amp;pagina=3\">3</a> <a href=\"/acervodigital_obrasraras/livro/index.php?busca=.&amp;pagina=4\">4</a> <a href=\"/acervodigital_obrasraras/livro/index.php?busca=.&amp;pagina=5\">5</a> <a href=\"/acervodigital_obrasraras/livro/index.php?busca=.&amp;pagina=6\">6</a> <a href=\"/acervodigital_obrasraras/livro/index.php?busca=.&amp;pagina=7\">7</a> <a href=\"/acervodigital_obrasraras/livro/index.php?busca=.&amp;pagina=8\">8</a> <a href=\"/acervodigital_obrasraras/livro/index.php?busca=.&amp;pagina=9\">9</a> <a href=\"/acervodigital_obrasraras/livro/index.php?busca=.&amp;pagina=10\">10</a> <a href=\"/acervodigital_obrasraras/livro/index.php?busca=.&amp;pagina=11\">11</a> <a href=\"/acervodigital_obrasraras/livro/index.php?busca=.&amp;pagina=12\">12</a> <a href=\"/acervodigital_obrasraras/livro/index.php?busca=.&amp;pagina=13\">13</a> <a href=\"/acervodigital_obrasraras/livro/index.php?busca=.&amp;pagina=1\">Mais</a><div>\n",
      "</div>\n",
      "</div></p></div></div></div></body></html>\n",
      "\n"
     ]
    }
   ],
   "source": [
    "print (bs)"
   ]
  },
  {
   "cell_type": "code",
   "execution_count": 18,
   "metadata": {},
   "outputs": [
    {
     "name": "stdout",
     "output_type": "stream",
     "text": [
      "[<h2><a href=\"http://www.fcp.pa.gov.br/2016-11-24-18-22-47/memorias-de-um-revolucionario-a-revolucao-de-1930-prodromos-e-consequencias\" target=\"_blank\">LEITE, Aureliano. Memórias de um revolucionário: a revolução de 1930 pródromos e consequências. 1. ed. [S. Paulo]: s.n., 1931. 262 p.</a></h2>, <h2><a href=\"http://www.fcp.pa.gov.br/2016-11-24-18-22-47/homenagem-aos-grandes-patriotas-que-pugnaram-pela-causa-da-independencia-do-brasil-e-viram-na-realizada-com-os-actos-solennes-de-adhesao-de-11-de-agosto-de-1823\" target=\"_blank\">INSTITUTO HISTÓRICO E GEOGRÁPHICO DO PARÁ. Homenagem aos grandes patriotas que pugnaram pela causa da independência do Brasil e viram-na realizada com os actos solennes de adhesão de 11 de agosto de 1823. S.l.: s.n., [1923?]. 11 [81] p.</a></h2>, <h2><a href=\"http://www.fcp.pa.gov.br/2016-11-24-18-22-47/instituto-julio-cesar-estatutos-fundado-a-9-de-fevereiro-de-1915\" target=\"_blank\">INSTITUTO JULIO CESAR. Estatutos: fundado a 9 de fevereiro de 1915; Diretor Prof. Raymundo Proença. Belém, PA: s.n., [191-?]. 11 p.</a></h2>, <h2><a href=\"http://www.fcp.pa.gov.br/2016-11-24-18-22-47/synopsis-historica-litteraturae-latinae\" target=\"_blank\">LIMA, Hélio Frota. Synopsis historica: litteraturae latinae. These instar pro concursu ad cathedram ejusdem linguae in qua scripta est.. Belém, PA: s.n., 1920. 27 p.</a></h2>, <h2><a href=\"http://www.fcp.pa.gov.br/2016-11-24-18-22-47/contos-e-lendas-do-brasil\" target=\"_blank\">ORICO, Oswaldo . Contos e lendas do Brasil. São Paulo: Melhoramentos, [1930], 111 p.</a></h2>, <h2><a href=\"http://www.fcp.pa.gov.br/2016-11-24-18-22-47/as-aventuras-de-bemquisto-romance-heroi-comico\" target=\"_blank\">DUBOIS, Florêncio. As aventuras de bemquisto: romance herói-comico. Pará: Clássica, 1925. 229 p.</a></h2>, <h2><a href=\"http://www.fcp.pa.gov.br/2016-11-24-18-22-47/a-conversao-de-philemon-e-ariano-oratorio-em-tres-actos\" target=\"_blank\">BAENA, Antônio Ladislau Monteiro. A Conversão de Philemon, e Ariano: oratorio em tres actos. Pará: Typographia de Santarem e Filho, 1850. 61 p.</a></h2>, <h2><a href=\"http://www.fcp.pa.gov.br/2016-11-24-18-22-47/de-capa-e-espada\" target=\"_blank\">AZEVEDO, J. Eustachio de Jacques Rolla, pseud. De capa e espada.... Belém, PA: J. A. Teixeira Pinto, [19--?]. 189 p.</a></h2>, <h2><a href=\"http://www.fcp.pa.gov.br/2016-11-24-18-22-47/sem-valor-para-troco\" target=\"_blank\">FAC-TOTUM, pseud. Sem valor para trôco. Belém, PA: J.B. dos Santos, 1924. 96 p.</a></h2>, <h2><a href=\"http://www.fcp.pa.gov.br/2016-11-24-18-22-47/cultura-do-tabaco-breves-nocoes-ou-modo-de-bem-fabrical-o-3\" target=\"_blank\">LADISLAU, Alfredo. Terra immatura. 3. ed. Rio de Janeiro: Civilização Brasileira, 1933. 234 p.</a></h2>, <h2><a href=\"http://fcp.pa.gov.br/2016-11-24-18-22-47/contos-singelos\" target=\"_blank\">DUBOIS, Florêncio. Contos singelos. [S.l.]: Typ. Besnard Freres, 1921. 248 p.</a></h2>, <h2><a href=\"http://fcp.pa.gov.br/2016-11-24-18-22-47/direito-contra-o-direito-ou-o-estado-sobre-tudo-refutacao-da-theoria-dos-politicos-na-questao-religiosa-seguida-da-resposta-ao-supremo-tribunal-de-justica\" target=\"_blank\">COSTA, Antônio de Macedo. Direito contra o direito ou o estado sobre tudo: refutação da theoria dos politicos na questão religiosa seguida da resposta ao Supremo Tribunal de Justiça. Porto, Portugal: Livraria Internacional, 1875. 266 p.</a></h2>, <h2><a href=\"http://fcp.pa.gov.br/2016-11-24-18-22-47/notas-a-entrevista-do-dr-dionysio-bentes-com-ampliacoes-dos-topicos-estampados-na-folha-do-norte\" target=\"_blank\">GENTIL, Alcides. Notas á entrevista do Dr. Dionysio Bentes: com ampliações dos topicos estampados na Folha do Norte. Pará: Livraria Clássica, 1925. 59 p.</a></h2>, <h2><a href=\"http://fcp.pa.gov.br/2016-11-24-18-22-47/vendas-de-borracha-acreana\" target=\"_blank\">LIMA, Eládio. Vendas de borracha acreana: supposta infracção do regulamento do sello: memorial apresentado á Associação Commercial do Pará. Belém: Typ. da Livraria Gillet, 1928. 19 p.</a></h2>, <h2><a href=\"http://fcp.pa.gov.br/2016-11-24-18-22-47/nocoes-de-historia-do-para-da-conquistas-e-colonizacao-a-independencia\" target=\"_blank\">CRUZ, Ernesto. Noções de história do Pará: da conquistas e colonização á independência. [S.I]: Officinas Graphicas da Livraria Internacional, 1937. 189p.</a></h2>, <h2><a href=\"http://www.fcp.pa.gov.br/2016-11-24-18-22-47/a-fundacao-de-belem-ligeira\" target=\"_blank\">AMARAL, José Ribeiro do. A Fundação de Belém: ligeira resposta ao estudo historico do Snr. Candido Costa, reivindicação historica, consoante a narrativa do historiador portuguez Bernardo Pereira de Berredo que fôra governador e capitão-general do Estado do Maranhão nos annos de 1718-1722. Belém, PA: J. Pires, 1916. 35 p.</a></h2>, <h2><a href=\"http://fcp.pa.gov.br/2016-11-24-18-22-47/album-operacao-amazonia\" target=\"_blank\">PARÁ. GOVERNADOR (1966-1971 : ALACID NUNES). Operação Amazônia: álbum. [S.l.]: [s.n.], 1967. v. 1 [123] p.</a></h2>, <h2><a href=\"http://www.fcp.pa.gov.br/2016-11-24-18-22-47/carta-pastoral-do-exm-bispo-do-para-d-antonio-de-macedo-costa-explicando-a-seus-diocesanos-a-razao-do-actual-conflicto\" target=\"_blank\">IGREJA CATÓLICA. Diocese de Belém do Pará. Bispo (1859-1890: Macedo Costa). Carta pastoral do exm. bispo do Pará D. Antônio de Macedo Costa: explicando a seus diocesanos a razão do actual conflicto. Rio de Janeiro: Typographia do Apostolo, 1874. 55 p.</a></h2>, <h2><a href=\"http://www.fcp.pa.gov.br/2016-11-24-18-22-47/carta-pastoral-do-exm-e-revm-sr-bispo-do-para-e-amasonas-publicando-o-jubileu-em-sua-diocese-no-anno-de-1875\" target=\"_blank\">IGREJA CATÓLICA. Diocese de Belém do Gram-Pará. Bispo (1859-1890 : Macedo Costa). Carta pastoral do exm. e revm. sr. Bispo do Pará e Amasonas, publicando o jubileu em sua diocese no anno de 1875. Belém: Typ. da Boa-Nova, 1875. 30 p.</a></h2>, <h2><a href=\"http://www.fcp.pa.gov.br/2016-11-24-18-22-47/programma-de-ensino-da-2-cadeira-do-1-anno-direito-romano\" target=\"_blank\">FIGUEIREDO, Amazonas de. Programma de Ensino da 2.ª cadeira do 1.º anno: direito romano. Pará: Faculdade Livre de Direito, 1927. 21 p.</a></h2>]\n"
     ]
    }
   ],
   "source": [
    "#encontrando a tag html que armazena o título do livro\n",
    "\n",
    "obras = bs.find_all('h2') #método find_all() da biblioteca BeautifulSoup\n",
    "print (obras)"
   ]
  },
  {
   "cell_type": "code",
   "execution_count": 19,
   "metadata": {},
   "outputs": [
    {
     "name": "stdout",
     "output_type": "stream",
     "text": [
      "<h2><a href=\"http://www.fcp.pa.gov.br/2016-11-24-18-22-47/memorias-de-um-revolucionario-a-revolucao-de-1930-prodromos-e-consequencias\" target=\"_blank\">LEITE, Aureliano. Memórias de um revolucionário: a revolução de 1930 pródromos e consequências. 1. ed. [S. Paulo]: s.n., 1931. 262 p.</a></h2>\n"
     ]
    }
   ],
   "source": [
    "obra1 = obras[0]\n",
    "print (obra1)"
   ]
  },
  {
   "cell_type": "code",
   "execution_count": 20,
   "metadata": {},
   "outputs": [
    {
     "name": "stdout",
     "output_type": "stream",
     "text": [
      "<a href=\"http://www.fcp.pa.gov.br/2016-11-24-18-22-47/memorias-de-um-revolucionario-a-revolucao-de-1930-prodromos-e-consequencias\" target=\"_blank\">LEITE, Aureliano. Memórias de um revolucionário: a revolução de 1930 pródromos e consequências. 1. ed. [S. Paulo]: s.n., 1931. 262 p.</a>\n"
     ]
    }
   ],
   "source": [
    "nome_obra = obra1.find('a')\n",
    "print (nome_obra)"
   ]
  },
  {
   "cell_type": "code",
   "execution_count": 21,
   "metadata": {},
   "outputs": [
    {
     "name": "stdout",
     "output_type": "stream",
     "text": [
      "LEITE, Aureliano. Memórias de um revolucionário: a revolução de 1930 pródromos e consequências. 1. ed. [S. Paulo]: s.n., 1931. 262 p.\n"
     ]
    }
   ],
   "source": [
    "#obtendo apenas o texto dentro da tag\n",
    "\n",
    "title = nome_obra.text\n",
    "print (title)"
   ]
  },
  {
   "cell_type": "code",
   "execution_count": 22,
   "metadata": {},
   "outputs": [
    {
     "name": "stdout",
     "output_type": "stream",
     "text": [
      "[<h2><a href=\"http://www.fcp.pa.gov.br/2016-11-24-18-22-47/memorias-de-um-revolucionario-a-revolucao-de-1930-prodromos-e-consequencias\" target=\"_blank\">LEITE, Aureliano. Memórias de um revolucionário: a revolução de 1930 pródromos e consequências. 1. ed. [S. Paulo]: s.n., 1931. 262 p.</a></h2>, <h2><a href=\"http://www.fcp.pa.gov.br/2016-11-24-18-22-47/homenagem-aos-grandes-patriotas-que-pugnaram-pela-causa-da-independencia-do-brasil-e-viram-na-realizada-com-os-actos-solennes-de-adhesao-de-11-de-agosto-de-1823\" target=\"_blank\">INSTITUTO HISTÓRICO E GEOGRÁPHICO DO PARÁ. Homenagem aos grandes patriotas que pugnaram pela causa da independência do Brasil e viram-na realizada com os actos solennes de adhesão de 11 de agosto de 1823. S.l.: s.n., [1923?]. 11 [81] p.</a></h2>, <h2><a href=\"http://www.fcp.pa.gov.br/2016-11-24-18-22-47/instituto-julio-cesar-estatutos-fundado-a-9-de-fevereiro-de-1915\" target=\"_blank\">INSTITUTO JULIO CESAR. Estatutos: fundado a 9 de fevereiro de 1915; Diretor Prof. Raymundo Proença. Belém, PA: s.n., [191-?]. 11 p.</a></h2>, <h2><a href=\"http://www.fcp.pa.gov.br/2016-11-24-18-22-47/synopsis-historica-litteraturae-latinae\" target=\"_blank\">LIMA, Hélio Frota. Synopsis historica: litteraturae latinae. These instar pro concursu ad cathedram ejusdem linguae in qua scripta est.. Belém, PA: s.n., 1920. 27 p.</a></h2>, <h2><a href=\"http://www.fcp.pa.gov.br/2016-11-24-18-22-47/contos-e-lendas-do-brasil\" target=\"_blank\">ORICO, Oswaldo . Contos e lendas do Brasil. São Paulo: Melhoramentos, [1930], 111 p.</a></h2>, <h2><a href=\"http://www.fcp.pa.gov.br/2016-11-24-18-22-47/as-aventuras-de-bemquisto-romance-heroi-comico\" target=\"_blank\">DUBOIS, Florêncio. As aventuras de bemquisto: romance herói-comico. Pará: Clássica, 1925. 229 p.</a></h2>, <h2><a href=\"http://www.fcp.pa.gov.br/2016-11-24-18-22-47/a-conversao-de-philemon-e-ariano-oratorio-em-tres-actos\" target=\"_blank\">BAENA, Antônio Ladislau Monteiro. A Conversão de Philemon, e Ariano: oratorio em tres actos. Pará: Typographia de Santarem e Filho, 1850. 61 p.</a></h2>, <h2><a href=\"http://www.fcp.pa.gov.br/2016-11-24-18-22-47/de-capa-e-espada\" target=\"_blank\">AZEVEDO, J. Eustachio de Jacques Rolla, pseud. De capa e espada.... Belém, PA: J. A. Teixeira Pinto, [19--?]. 189 p.</a></h2>, <h2><a href=\"http://www.fcp.pa.gov.br/2016-11-24-18-22-47/sem-valor-para-troco\" target=\"_blank\">FAC-TOTUM, pseud. Sem valor para trôco. Belém, PA: J.B. dos Santos, 1924. 96 p.</a></h2>, <h2><a href=\"http://www.fcp.pa.gov.br/2016-11-24-18-22-47/cultura-do-tabaco-breves-nocoes-ou-modo-de-bem-fabrical-o-3\" target=\"_blank\">LADISLAU, Alfredo. Terra immatura. 3. ed. Rio de Janeiro: Civilização Brasileira, 1933. 234 p.</a></h2>, <h2><a href=\"http://fcp.pa.gov.br/2016-11-24-18-22-47/contos-singelos\" target=\"_blank\">DUBOIS, Florêncio. Contos singelos. [S.l.]: Typ. Besnard Freres, 1921. 248 p.</a></h2>, <h2><a href=\"http://fcp.pa.gov.br/2016-11-24-18-22-47/direito-contra-o-direito-ou-o-estado-sobre-tudo-refutacao-da-theoria-dos-politicos-na-questao-religiosa-seguida-da-resposta-ao-supremo-tribunal-de-justica\" target=\"_blank\">COSTA, Antônio de Macedo. Direito contra o direito ou o estado sobre tudo: refutação da theoria dos politicos na questão religiosa seguida da resposta ao Supremo Tribunal de Justiça. Porto, Portugal: Livraria Internacional, 1875. 266 p.</a></h2>, <h2><a href=\"http://fcp.pa.gov.br/2016-11-24-18-22-47/notas-a-entrevista-do-dr-dionysio-bentes-com-ampliacoes-dos-topicos-estampados-na-folha-do-norte\" target=\"_blank\">GENTIL, Alcides. Notas á entrevista do Dr. Dionysio Bentes: com ampliações dos topicos estampados na Folha do Norte. Pará: Livraria Clássica, 1925. 59 p.</a></h2>, <h2><a href=\"http://fcp.pa.gov.br/2016-11-24-18-22-47/vendas-de-borracha-acreana\" target=\"_blank\">LIMA, Eládio. Vendas de borracha acreana: supposta infracção do regulamento do sello: memorial apresentado á Associação Commercial do Pará. Belém: Typ. da Livraria Gillet, 1928. 19 p.</a></h2>, <h2><a href=\"http://fcp.pa.gov.br/2016-11-24-18-22-47/nocoes-de-historia-do-para-da-conquistas-e-colonizacao-a-independencia\" target=\"_blank\">CRUZ, Ernesto. Noções de história do Pará: da conquistas e colonização á independência. [S.I]: Officinas Graphicas da Livraria Internacional, 1937. 189p.</a></h2>, <h2><a href=\"http://www.fcp.pa.gov.br/2016-11-24-18-22-47/a-fundacao-de-belem-ligeira\" target=\"_blank\">AMARAL, José Ribeiro do. A Fundação de Belém: ligeira resposta ao estudo historico do Snr. Candido Costa, reivindicação historica, consoante a narrativa do historiador portuguez Bernardo Pereira de Berredo que fôra governador e capitão-general do Estado do Maranhão nos annos de 1718-1722. Belém, PA: J. Pires, 1916. 35 p.</a></h2>, <h2><a href=\"http://fcp.pa.gov.br/2016-11-24-18-22-47/album-operacao-amazonia\" target=\"_blank\">PARÁ. GOVERNADOR (1966-1971 : ALACID NUNES). Operação Amazônia: álbum. [S.l.]: [s.n.], 1967. v. 1 [123] p.</a></h2>, <h2><a href=\"http://www.fcp.pa.gov.br/2016-11-24-18-22-47/carta-pastoral-do-exm-bispo-do-para-d-antonio-de-macedo-costa-explicando-a-seus-diocesanos-a-razao-do-actual-conflicto\" target=\"_blank\">IGREJA CATÓLICA. Diocese de Belém do Pará. Bispo (1859-1890: Macedo Costa). Carta pastoral do exm. bispo do Pará D. Antônio de Macedo Costa: explicando a seus diocesanos a razão do actual conflicto. Rio de Janeiro: Typographia do Apostolo, 1874. 55 p.</a></h2>, <h2><a href=\"http://www.fcp.pa.gov.br/2016-11-24-18-22-47/carta-pastoral-do-exm-e-revm-sr-bispo-do-para-e-amasonas-publicando-o-jubileu-em-sua-diocese-no-anno-de-1875\" target=\"_blank\">IGREJA CATÓLICA. Diocese de Belém do Gram-Pará. Bispo (1859-1890 : Macedo Costa). Carta pastoral do exm. e revm. sr. Bispo do Pará e Amasonas, publicando o jubileu em sua diocese no anno de 1875. Belém: Typ. da Boa-Nova, 1875. 30 p.</a></h2>, <h2><a href=\"http://www.fcp.pa.gov.br/2016-11-24-18-22-47/programma-de-ensino-da-2-cadeira-do-1-anno-direito-romano\" target=\"_blank\">FIGUEIREDO, Amazonas de. Programma de Ensino da 2.ª cadeira do 1.º anno: direito romano. Pará: Faculdade Livre de Direito, 1927. 21 p.</a></h2>]\n"
     ]
    }
   ],
   "source": [
    "titles = bs.find_all('h2')\n",
    "print (titles)"
   ]
  },
  {
   "cell_type": "code",
   "execution_count": 23,
   "metadata": {},
   "outputs": [
    {
     "name": "stdout",
     "output_type": "stream",
     "text": [
      "LEITE, Aureliano. Memórias de um revolucionário: a revolução de 1930 pródromos e consequências. 1. ed. [S. Paulo]: s.n., 1931. 262 p.\n",
      "INSTITUTO HISTÓRICO E GEOGRÁPHICO DO PARÁ. Homenagem aos grandes patriotas que pugnaram pela causa da independência do Brasil e viram-na realizada com os actos solennes de adhesão de 11 de agosto de 1823. S.l.: s.n., [1923?]. 11 [81] p.\n",
      "INSTITUTO JULIO CESAR. Estatutos: fundado a 9 de fevereiro de 1915; Diretor Prof. Raymundo Proença. Belém, PA: s.n., [191-?]. 11 p.\n",
      "LIMA, Hélio Frota. Synopsis historica: litteraturae latinae. These instar pro concursu ad cathedram ejusdem linguae in qua scripta est.. Belém, PA: s.n., 1920. 27 p.\n",
      "ORICO, Oswaldo . Contos e lendas do Brasil. São Paulo: Melhoramentos, [1930], 111 p.\n",
      "DUBOIS, Florêncio. As aventuras de bemquisto: romance herói-comico. Pará: Clássica, 1925. 229 p.\n",
      "BAENA, Antônio Ladislau Monteiro. A Conversão de Philemon, e Ariano: oratorio em tres actos. Pará: Typographia de Santarem e Filho, 1850. 61 p.\n",
      "AZEVEDO, J. Eustachio de Jacques Rolla, pseud. De capa e espada.... Belém, PA: J. A. Teixeira Pinto, [19--?]. 189 p.\n",
      "FAC-TOTUM, pseud. Sem valor para trôco. Belém, PA: J.B. dos Santos, 1924. 96 p.\n",
      "LADISLAU, Alfredo. Terra immatura. 3. ed. Rio de Janeiro: Civilização Brasileira, 1933. 234 p.\n",
      "DUBOIS, Florêncio. Contos singelos. [S.l.]: Typ. Besnard Freres, 1921. 248 p.\n",
      "COSTA, Antônio de Macedo. Direito contra o direito ou o estado sobre tudo: refutação da theoria dos politicos na questão religiosa seguida da resposta ao Supremo Tribunal de Justiça. Porto, Portugal: Livraria Internacional, 1875. 266 p.\n",
      "GENTIL, Alcides. Notas á entrevista do Dr. Dionysio Bentes: com ampliações dos topicos estampados na Folha do Norte. Pará: Livraria Clássica, 1925. 59 p.\n",
      "LIMA, Eládio. Vendas de borracha acreana: supposta infracção do regulamento do sello: memorial apresentado á Associação Commercial do Pará. Belém: Typ. da Livraria Gillet, 1928. 19 p.\n",
      "CRUZ, Ernesto. Noções de história do Pará: da conquistas e colonização á independência. [S.I]: Officinas Graphicas da Livraria Internacional, 1937. 189p.\n",
      "AMARAL, José Ribeiro do. A Fundação de Belém: ligeira resposta ao estudo historico do Snr. Candido Costa, reivindicação historica, consoante a narrativa do historiador portuguez Bernardo Pereira de Berredo que fôra governador e capitão-general do Estado do Maranhão nos annos de 1718-1722. Belém, PA: J. Pires, 1916. 35 p.\n",
      "PARÁ. GOVERNADOR (1966-1971 : ALACID NUNES). Operação Amazônia: álbum. [S.l.]: [s.n.], 1967. v. 1 [123] p.\n",
      "IGREJA CATÓLICA. Diocese de Belém do Pará. Bispo (1859-1890: Macedo Costa). Carta pastoral do exm. bispo do Pará D. Antônio de Macedo Costa: explicando a seus diocesanos a razão do actual conflicto. Rio de Janeiro: Typographia do Apostolo, 1874. 55 p.\n",
      "IGREJA CATÓLICA. Diocese de Belém do Gram-Pará. Bispo (1859-1890 : Macedo Costa). Carta pastoral do exm. e revm. sr. Bispo do Pará e Amasonas, publicando o jubileu em sua diocese no anno de 1875. Belém: Typ. da Boa-Nova, 1875. 30 p.\n",
      "FIGUEIREDO, Amazonas de. Programma de Ensino da 2.ª cadeira do 1.º anno: direito romano. Pará: Faculdade Livre de Direito, 1927. 21 p.\n"
     ]
    }
   ],
   "source": [
    "#pegar todos os títulos contidos em uma página\n",
    "\n",
    "for div in titles:\n",
    "    print (div.text)\n",
    "    "
   ]
  },
  {
   "cell_type": "code",
   "execution_count": 24,
   "metadata": {},
   "outputs": [
    {
     "name": "stdout",
     "output_type": "stream",
     "text": [
      "BRASIL SEGURADORA E EDIFICADORA. Estatutos da sociedade anonyma. Pará: Officina Typogr. movida a Eletricidade de A. Facióla, 1911. 30 p.\n",
      "SOUZA, Daniel Coelho de. Tobias Barreto: palestra proferida na Faculdade de Direito de Pará em comemoração ao primeiro centenário de nascimento de Tobias Barreto, sob o patrocínio da revista Terra Imatura. Belém: Comtemporaneo, 1943. 24 p.\n",
      "MESQUITA, Lindolfo. Magalhães Barata: o Pará e sua história. Belém: Jornal do Commercio, 1944. 146 p.\n",
      "BRASIL, Antonio Augusto de Carvalho. Origem do universo, atravéz da fisica. Belém: Typ. da Livraria Gillet, 1933. 40 p.\n",
      "CONTENTE, Jose Cupertino. Dos superlativos latinos e portuguezes: estudo comparativo. Pará: Livraria Escolar, 1930. 36 p. Tese (Livre docente de portuguez) - Gymnasio Paes de Carvalho, Belém, 1930\n",
      "OLIVEIRA, Virgilio Cardoso de. O Instituto cívico-juridico: artigos publicados na A Província do Pará. Pará: Typ. e Encad. De P. Barbosa, 1898. 34 p.\n",
      "IGREJA CATÓLICA. Prelatura de Santarém, PA. Bispo (1903-1907: Frederico Benício de Sousa Costa). Carta circular de monsenhor Frederico Costa ao clero e habitantes da prelatura de Santarem. Santarém, PA: Typ. da Papelaria Potó de Nóvoa e Guimarães, 1906. 77 p.\n",
      "MEIRA, Augusto, Libertas superest: discurso do paranimpho pronunciado na Faculdade de Direito do Pará, na festa solemne de formatura dos bacharelandos de 1939. Belém: [S.n] 1941. 34 p.\n",
      "GUERREIRO, Leocadio. Branca do céu: versos. Belém, PA: Typ. da Livraria Escolar, 1909. 77 p.\n",
      "GERMANO. A Amasonia em 1893: analyse rapida do trabalho da Snr. Luiz Rodolpho Cavalcanti de Albuquerque, publicada n' \"A Republica\" (Pará). Pará: Typ. Encadernação de Pinto Barbosa, 1895. 53 p.\n",
      "COSTA, Frederico Augusto da Gama e. Manifesto politico do tenente-coronel Frederico Augusto da Gama e Costa ao publico e ao partido republicano federal. Lisboa: Typographia da Companhia Nacional, 1900. 38 p.\n",
      "MEIRA, Augusto. Programa de ensino da 3ª cadeira do 3° anno Direito Criminal. [Pará], Instituto Lauro Sodré, 1930. 11 p.\n",
      "IGREJA CATÓLICA. Diocese de Belém do Gram-Pará. Bispo (1859-1890 : Macedo Costa). Carta pastoral do excellentissimo e reverendíssimo bispo do Pará, publicando as constituições dogmaticas do sacrosancto Concilio Geral do Vaticano. San'Luiz do Maranhão: Typ. B. de Mattos, 1871. 93 p.\n",
      "FARIA, Augusto de. Programa de ensino da segunda cadeira do 2° ano do curso de bacharelado: direito Penal. Belém: livraria clássica, 1934. 7 p.\n",
      "SANTOS, Amilcar Salgado dos. A Revolução brasileira na Amazonia: notas para a historia da Amazonia. São Paulo: [s.n.], 1931. 86 p.\n",
      "PARÁ. [Leis etc.]. Constituição politica do Estado do Pará. Belém, PA: Typ. do Instituto Lauro Sodré, 1948. 26 p.\n",
      "TRAÇOS artisticos e biographicos do maestro Ettore Bosio: apreciações sobre as suas obras musicaes. Belém, PA: Typ. da Livraria Gillet, 1922. 46 p.\n",
      "PARÁ. [Leis etc.]. Constituição politica do Estado do Pará: dos annos de 1891, 1904, 1914 e 1915. Belém: Imprensa Official do Estado do Pará, 1915. 78 p.\n",
      "PARÁ. Governador (1913-1916? : Enéas Martins). Mensagem dirigida em 1 de agosto de 1914 ao Congresso Legislativo do Pará. Belém: Imprensa Official do Estado do Pará, 1914. 99 p.\n",
      "FRIAS, David Correa Sanches de visconde de,. A Mulher: sua infancia, educação e influencia na sociedade. Pará: Tavares Cardoso, [1879?]. 190 p.\n"
     ]
    }
   ],
   "source": [
    "url2 = requests.get('http://177.74.60.161/acervodigital_obrasraras/livro/index.php?busca=.&pagina=2')\n",
    "bs2 = BeautifulSoup(url2.text, 'html.parser')\n",
    "buch = bs2.find_all('h2')\n",
    "\n",
    "for pg2 in buch:\n",
    "    print(pg2.text)"
   ]
  },
  {
   "cell_type": "code",
   "execution_count": 25,
   "metadata": {},
   "outputs": [
    {
     "name": "stdout",
     "output_type": "stream",
     "text": [
      "HURLEY, Jorge. Itarãna (pedra falsa): lendas, mytos, itarãnas e folk-lore amazonico. Belém, PA: Off. Graphicas do Instituto D. Macedo Costa, 1934. 199 p.\n",
      "CHAVES, Anysio. Painas ao vento. Belém: Imprensa Oficial, 1950. 118 p.\n",
      "BÉSSA, Martins. Conferências: o livro - Theophilo Braga. Belém: Typographia da Livraria Bittencourt, 1911. 62 p.\n",
      "CONDURÚ, José Maria Hesketh. Phytologia geral: generalidades - histologia. Pará: S. Matheus, 1927. 115 p.\n",
      "CORREIA, Cesar. Dr. Candido de Figueiredo: ligeiro escôrço biográfico. Viseu: Tipografia da Provincia, 1907. 17 p.\n",
      "CAMPOS, Leandro Ferreira. O Senr. Salustiano Jacintho de A. Pessôa condemnado por injurias ao ex-inspector da tesouraria de fazenda exctincta do Pará. Pará: [s.n.], 1894. 43 p.\n",
      "CONDURÚ, José Maria Hesketh. O Succo cellular: elementos que o compõem sua origem e seu papel. Belém: Secção de Obras d' A Palavra, 1921. 66 p.\n",
      "CHAVES, Joao. Memoria historica da Faculdade de Direito do Pará, 1902-1907. Pará: Typographia do Instituto Gentil Bittencourt, 1908. 83 p.\n",
      "CONTENTE, Jose Cupertino. A Liberdade e a lei. Pará: Livraria Escolar, 1926. 99 p. These (Cadeira de Instrucção Moral e Cívica) - Gymnasio Paes de Carvalho, Belém, 1925\n",
      "COHEN, Jacob. A Seringueira. Belém: [s.n.], 1944. 155 p.\n",
      "COSTA, Antônio de Macedo. A Amazonia: meio de desenvolver sua civilisação: conferencia recitada em Manaos no paço da Assenbléa provincial. Pará: Typ. do Livro do Commercio, 1883. 51 p.\n",
      "CHAVES, Anysio. A Democracia da caridade. Belém: Officinas Graphicas do Instituto Lauro Sodré, 1936. 20 p.\n",
      "RECORDANDO o cincoentenario da morte de D. Antonio de Macedo Costa: 10º bispo do Pará, 1891-1941. Belém: [s.n.], 1941. 16 p.\n",
      "COELHO Netto e a mina literaria. Pará: Imprensa de Alfredo Silva, 1899. 142 p.\n",
      "TAVARES, Luiz Demétrio Juvenal. Ensino civico: noções e principios geraes de educação civica e direito pratico. Belém: Typ. de Pinto Barbosa, 1898. 65 p.\n",
      "BLUNTSCHLI, Hans; SIOLI, Harald (Trad.). A Amazônia como organismo harmônico. Manaus: INPA, 1964. 37 p. (Cadernos da Amazônia ; 1). ISBN (enc.).\n",
      "GARANTIA da Amazonia: sociedade de seguros mutuos sobre a vida: legalidade de sua organização. Pará: Typographia da Papelaria Americana, 1897. 48 p.\n",
      "COELHO, Romualdo de Sousa. Instrucção pastoral sobre o santo sacrificio da missa que dirigio aos seus diocesanos. Bahia: Typ. da Aurora de Serva, 1837. 50 p.\n",
      "CLEMENTE, Arthur. O Poder de Deus. Belém: [s.n.], 1920. 80 p.\n",
      "BRASIL. Supremo Tribunal Federal. Memorial da appellante. Belém, PA: Typ. da Livraria Classica, 1919. 60 p.\n"
     ]
    }
   ],
   "source": [
    "url3 = requests.get('http://177.74.60.161/acervodigital_obrasraras/livro/index.php?busca=.&pagina=3')\n",
    "bs3 = BeautifulSoup(url3.text, 'html.parser')\n",
    "buch = bs3.find_all('h2')\n",
    "\n",
    "for pg3 in buch:\n",
    "    print(pg3.text)"
   ]
  },
  {
   "cell_type": "code",
   "execution_count": 26,
   "metadata": {},
   "outputs": [
    {
     "name": "stdout",
     "output_type": "stream",
     "text": [
      "GOMES, Carlos. O Guarany. Pará: Alfredo Silva, 1896. xix, 40 p.\n",
      "BREVE monografia sobre o seminario arquiepiscopal de N. Senhora da Conceição de Belém. Pará: [s.n], [19--?]. 62 p.\n",
      "BRITO, Paulino de. Brasileirismos de colocação de pronomes: resposta ao Snr. Candido de Figueiredo (artigos publicados no Jornal do commercio - 1908). Rio de Janeiro: Viuva Azevedo, 1908. 60 p.\n",
      "TORRES, José Affonso de Moraes. Collecção de algumas circulares e portarias mais importantes de S. Exa. Reverendíssima o Senr. Bispo de Pará. Belém, PA: Typographia de Santos & Filhos, 1856. 13, 40, 23 p.\n",
      "MONOGRAPHIA do Instituto Lauro Sodré: eschola profissional do estado. Belém, PA: Typ. e encadernação do Instituto Lauro Sodré, 1904. 156 p.\n",
      "TAVARES, Luiz Demétrio Juvenal. Versos antigos e modernos. Pará: Typ. de A. F. da Costa, 1889. 224p.\n",
      "CARVALHO, Oscar de. A Camisa da noiva: novella. Belém, PA: [s.n], 1929. 32 p.\n",
      "RIBEIRO, Eduardo de Azevedo. Fogo sagrado. São Paulo: [s.n], 1929. 126p.\n",
      "ABEN-ATHAR NETTO. Invasões estrangeiras antes e depois da fundação do Pará. Rio de Janeiro: [s.n.], 1958. 39 p.\n",
      "BRAGA, Theodoro. Historia do Pará: resumo didactico. São Paulo: Melhoramentos, [19--?]. 163 p.\n",
      "LOPES, Thoribio. Arsenal de marinha do Pará: sua origem e sua história. Belém, PA: [S.n], 1945. 137 p.\n",
      "MATTOS, João Wilkens de. Diccionário topographico do departamento de Loreto na Republica do Perú. Pará: TYp. Commercio do Pará, 1874. 142 p.\n",
      "FLÔRES, Jacques. Berimbáu e gaita: versos e verdades. Pará: Typographia Oriental, 1925. 78 p.\n",
      "MOURA, Ignacio. Estado do Pará: a exposição artistica e industrial do Lyceu Benjamin Constant e os expositores em 1895. Belém: Typ. do Diario Official, 1895. 202 p.\n",
      "FLÔRES, Jacques. Cuia pitinga: (humorismo). Rio de Janeiro: Adersen, 1936. 144 p.\n",
      "COSTA, Candido. O Livro do centenario: além da consagração à independencia politica do Pará, encerra varias occorrencias do corrente anno. Belém: Officinas Graphicas da Typ. Guajarina F. Lopes, 1924. 564 p.\n",
      "MARRECA, Orvacio Deolindo da Cunha. Histórico da Polícia Militar do Pará: desde seu início (1820) até 31 de dezembro de 1939. Belém: Oficinas Graficas do Instituto Lauro Sodré, 1940. 315 p.\n",
      "BELMAR, A. de. Voyage aux provinces brésiliennes du Pará et des Amazones en 1860: précédé d'un rapide coup d'oeil, sur le littoral du Brésil. Londres: Trezise, 1861. 232 p.\n",
      "BRAGA, Theodoro. Noções de chorographia do Estado do Pará. Belém: Empreza Graphica Amazonia, 1919. 632 p.\n",
      "SANTA MARIA, Agostinho de n. sec. Manuel Gomes Freire. Triumvirato espiritual, e historico nas prodigosas vidas de tresinsignes varoens, hum martyr, hum pontifice, e hum confessor.: o protomartyr do imperio de Perú o veneravel padre Fr. Diogo Ortis eremita de Santo Agostinho, hespanhol. O Illustrissimo bispo de Popayan o veneravel padre D. Fr. Agostinho de Corunha da mesma ordem de Santo Agostnho, hespanhol. O Veneravel irmão Bartholomeu Lourenço Portuguez, que depois de muytos annos de peregrin\n"
     ]
    }
   ],
   "source": [
    "url4 = requests.get('http://177.74.60.161/acervodigital_obrasraras/livro/index.php?busca=.&pagina=4')\n",
    "bs4 = BeautifulSoup(url4.text, 'html.parser')\n",
    "buch = bs4.find_all('h2')\n",
    "\n",
    "for pg4 in buch:\n",
    "    print(pg4.text)"
   ]
  },
  {
   "cell_type": "code",
   "execution_count": 27,
   "metadata": {},
   "outputs": [
    {
     "name": "stdout",
     "output_type": "stream",
     "text": [
      "SAMPAIO, Francisco Xavier Ribeiro de. Diário da viagem: que em visita, e correição das povoações da capitania de S. Joze do Rio Negro fez o ouvidor, e intendente geral da mesma. Lisboa: Typografia da Academia, 1825. 115 p.\n",
      "ALMEIDA, Francisco José de Lacerda e. Diario da viagem do Dr. Francisco José de Lacerda e Almeida pelas capitanias do Para', Rio Negro, Matto-Grosso, Cuyaba', e S. Paulo, nos annos de 1780 a 1790.: ( Impresso por ordem da Assembléa Legislativa da Provincia de S. Paulo ). S. Paulo: Na Typ. de Costa Silveira, 1841. 89 p.\n",
      "CRUZ, Ernesto. A Água de Belém: sistemas de abastecimento usados na capital desde os tempos coloniais aos dias hodiernos. Belém: Ofs. da Rev. da Veterinaria, 1944. 137 p.\n",
      "CRUZ, Ernesto. Nos bastidores da cabanagem. [s.l.]: Oficinas Gráficas da Revista da Veterinária, 1942. 250 p.\n",
      "RODRIGUES, Dilke de Barbosa. A Vida singular de Angelim: (a cabanagem). Rio de Janeiro: Irmãos Pongetti, [1936?]. 207 p.\n",
      "MOSCA, Oreste. Di ritorno dal Pará. Genova: L. A. Campodonico, [1899?]. 126 p.\n",
      "BAENA, Antonio Nicolau Monteiro. Bosquejo chronologico da Veneravel Ordem Terceira de São Francisco da Penitencia do Gram-Pará. Pará: Typographia Commercio do Pará, 1878. 88 p.\n",
      "KRAATZ-KOSCHLAU, K. von; HUBER, Jacques. Zwischen ocean und Guamá: beitrag zur kenntnis des states Pará. Pará: [s.n.], 1900. 34 p. (Memorias do Museu Paraense de Historia Natural e Ethnographica ;).\n",
      "MARAJÓ, José Coelho da Gama e Abreu Barão de. A Amazonia: as provincias do Pará e Amazonas e o governo central do Brazil. Lisboa: Typographia Minerva, 1883. 112 p.\n",
      "BRAGA, Theodoro. Guia do estado do Pará: organizado por determinação de S. Exa. Sr. Dr. Enéas Martins, Governador do Estado, em comemoração do 3º. centenario da fundação da cidade de Belém. Belém, PA: Typographia do Instituto Lauro Sodré, 1916. 198 p.\n",
      "GOELDI, Emílio Augusto. Eine Naturforscher-fahrt: nach dem litoral des südlichen Guyana zwischen Oyapock und Amazonestrom. (Oktober bis November 1895). St. Gallen.: Zollikofer'sch Buchdruckerei, 1898. 93 p.\n",
      "VIANNA, Arthur. Festas populares do Pará: a festa de Nazareth. Belém, PA: Typographia de Alfredo Augusto Silva, 1905. II, 55 p.\n",
      "COUDREAU, Ottile. Voyage a la Mapuerá: 21 avril - 24 décembre 1901. Paris: A. Lahure, 1903. 166 p.\n",
      "COUDREAU, Henri. Voyage a Itaboca et a L'Itacayuna: 1 er juillet 1897 - 11 octobre 1897. Paris: A. Lahure, 1898. 158 p.\n",
      "COUDREAU, Ottile. Voyage au Cuminá: 20 avril 1900 - 7 septembre 1900. Paris: A. Lahure, 1901. 190 p.\n",
      "BOLONHA, Francisco. Canal de Agua Preta. Belém, PA: Off. Graphicas do Instituto D. Macedo Costa, 1932. 116 p.\n",
      "PARÁ. Governador (1897-1901: J.P. de Carvalho). O Pará em 1900: quarto centenario do descobrimento do Brazil. Pará: Imprensa de Alfredo Augusto Silva, 1900. xiii, 297 p.\n",
      "NORONHA, José Monteiro de. Roteiro da viagem da cidade do Pará até as ultimas colônias do sertão da província. Pará: Typographia de Santos e Irmãos, 1862. 77 p.\n",
      "GOELDI, Emílio Augusto. Excavações archeologicas em 1895: executadas pelo Museu Paraense no littoral da Guyana Brazileira entre Oyapock e Amazonas. Pará: Typ. e Papelaria de A. Silva, 1900. iii, 44 p. \n",
      "GOELDI, Emílio Augusto. Ensaio sobre o Dr. Alexandre R. Ferreira: mormente em relação ás suas viagens na Amazonia e sua importancia como naturalista. Pará: Alfredo Silva, 1895. 108 p.\n"
     ]
    }
   ],
   "source": [
    "url5 = requests.get('http://177.74.60.161/acervodigital_obrasraras/livro/index.php?busca=.&pagina=5')\n",
    "bs5 = BeautifulSoup(url5.text, 'html.parser')\n",
    "buch = bs5.find_all('h2')\n",
    "\n",
    "for pg5 in buch:\n",
    "    print(pg5.text)"
   ]
  },
  {
   "cell_type": "code",
   "execution_count": 28,
   "metadata": {},
   "outputs": [
    {
     "name": "stdout",
     "output_type": "stream",
     "text": [
      "ALMANACH paraense: para o anno de 1906. Belém: Typ. e Encadernação do Instituto Lauro Sodré, 1906. lxiv [68] 192 p.\n",
      "L' ÉTATE de Pará: États - Unis du Brésil. Paris: A. Lahure, 1897. 135 p.\n",
      "AZEVEDO, J. Lúcio de. Estudos de historia paraense. Pará: Typ. de Tavares Cardoso, 1893. 251 p.\n",
      "LEAL, Fellipe José Pereira. Correcções e ampliações ao que sobre a revolução que arrebentou na cidade do Pará em janeiro de 1835, publicou o conselheiro João Manoel Pereira da Silva em sua historia do Brazil de 1831 a 1840. Bahia: Typographia à rua da Alfandega, 1879. iii, 58 p.\n",
      "MENEZES, Bruno de. Poesia. Belém: Typ. Guará, 1931. 140 p.\n",
      "ALVES, Francisco Ferreira de Vilhena. Monodias: collecção de poesias. Maranhão: Typ. B. de Mattos, 1868. xx, 181 p.\n",
      "ALVES, Francisco Ferreira de Vilhena. Enlevos poeticos: collecção de versos. Pará: C. Seidl, 1871. xi, 91, 4 p.\n",
      "ALVES, Francisco Ferreira de Vilhena. Primeira grammatica da infancia. Pará: Pinto Barbosa, [18--?]. 73 p.\n",
      "ALVES, Francisco Ferreira de Vilhena. Segunda grammatica da infancia: curso médio. Pará: Typ. de P. Barbosa, 1897. 176 p.\n",
      "ALVES, Francisco Ferreira de Vilhena. Exercicios de portuguez: para uso das escolas primarias. Belém: Imprensa Official, 1900. 64 p.\n",
      "AGASSIZ, Jean Louis Rodolphe. Conversações scientificas sobre o Amazonas. Rio de Janeiro: Typ. Imp. e Const. de Villeneuve, 1866. 70 p.\n",
      "BELÉM. Conselho Municipal. Leis e Posturas Municipaes (1892-1897). Belém: Typographia de T. Cardoso, 1898. 381 p . (Tomo I).\n",
      "BELÉM. Intendencia Municipal. Actos e decisões do executivo municipal 1897-1901. Belém: [s.n.], 1901. 415 p. \n",
      "L' ESPOSICIONE INTERNAZIONAL DI TORINO,. Lo Stato del Pará (Brasile) a Torino: 1911: movimento artistico - situazione economica e finanziaria - suoi introitisuo commercio - suoi prodotti - linee di navigazione - esportazione. Torino: [s.n], 1911. 106 p.\n",
      "BRAGA, Theodoro. Dez mezes de direcção do Instituto Lauro Sodré. Belém, PA: Typ. da Livraria Gillet, 1917. 83 p.\n",
      "MENDONÇA, Albuquerque. Administração do dr. Lauro Sodré. Belém: Typ. do Diario Official, 1897. 43 p.\n",
      "VIANNA, Arthur. Pontos de história do Pará. Belém: Empreza Graphica Amazônia, 1919. 76p.\n",
      "TAVARES, Luiz Demétrio Juvenal. Musa republicana: homenagem á patria brazileira no seu dia mais glorioso. Pará: Typ. e Encadernação do Livro de Ouro, 1892. 84 p.\n",
      "BERREDO, Bernardo Pereira de. Annaes historicos de Berredo: com um estudo sobre a vida, a epocha e os escriptos do autor. 3.ed. Florença: Typographia Barbéra, 1905. 2 v. (xxix,298; 321) p. (Historiadores da Amazonia ; 1 - 2).\n",
      "MUNIZ, João de Palma. Indice Geral dos Registros de terras: Publicação official organizada na administração do Exm. Snr. Dr. Augusto Montenegro governador do Estado. Belém: Imprensa Official, 1907-1909.  6 t. (xx,140; 285; 347; 360; 280; 399) p.\n"
     ]
    }
   ],
   "source": [
    "url6 = requests.get('http://177.74.60.161/acervodigital_obrasraras/livro/index.php?busca=.&pagina=6')\n",
    "bs6 = BeautifulSoup(url6.text, 'html.parser')\n",
    "buch = bs6.find_all('h2')\n",
    "\n",
    "for pg6 in buch:\n",
    "    print(pg6.text)"
   ]
  },
  {
   "cell_type": "code",
   "execution_count": 29,
   "metadata": {
    "scrolled": true
   },
   "outputs": [
    {
     "name": "stdout",
     "output_type": "stream",
     "text": [
      "CRUZ, Ernesto. Procissão dos séculos: vultos e episódios da história do Pará. Belém: Imprensa Oficial, 1952. 184 p.\n",
      "HURLEY, Jorge. Traços cabanos: 13 de maio (1836 - 1936): escripto sob a luz dos codices da Bibliotheca e Archivo Publico do Pará para commemorar a passagem do 1º Centenario da ocupação de Belém pelas forças do general Soares de Andréa, em 13 de maio de 1836. Belém: 1936. 284 p.\n",
      "ALVES, Francisco Ferreira de Vilhena. Compendio de analyse moderna: lexicologica e syntactica. Pará: Typ. do Diario Official, 1895. 124 p.\n",
      "VIANNA, Arthur. Estudos sobre o Pará: limites do Estado. Belém: Imprensa do Diario Official, 1899-1901. 3 pt. (68; 113; iii, 167) p.\n",
      "BOITEUX, Lucas Alexandre. Marinha imperial versus cabanagem. Rio de Janeiro: Imprensa Naval, 1943. 405 p.\n",
      "SALLES, Francisco José de Souza. Indice chronologico dos governadores e presidentes do Pará de 1655 a 1888. Pará: Typ. de F.da Costa Junior, 1888. 29 p.\n",
      "COSTA, Carlota Pistacchini M. Estatuto do Collegio Perseverança. Paris: Typographia Aillaud, 1904. 12 p.\n",
      "HURLEY, Jorge. Belém do Pará sob o dominio portuguez 1616 a 1823. Belém, PA: Oficinas Graficas da Livraria Classica, 1940. 260 p.\n",
      "MUNIZ, João de Palma. Indice dos titulos de terras: expedidos pelo governo do Estado na administração do Exm. Snr. Dr. Augusto Montenegro 1901-1908. Belém: Imprensa Official do Estado do Pará, 1909. 298 p.\n",
      "MUNIZ, João de Palma. Indice geral dos registros de posse: publicação official organizada na administração do Exm. Snr. Dr. João Antonio Luiz Coelho. Belém: Imprensa Official do Estado do Pará, 1910. 279 p.\n",
      "CASTRO, Francisco da Silva. Roteiro chorographico (inédito) da viagem que se costuma fazer da cidade de Belém do Grão-Pará a Villa-Bella de Matto-Grosso. Pará: Typ. do Diario do Grão-Pará, 1857. 36 p.\n",
      "\n",
      "BORROMEU, Carlos. Contribuição à historia das paróquias da Amazônia: paroquia de Barcarena....de rural da Sé. [Belém]: s.n., [1946]. 107 p.\n",
      "MEIRA, Augusto. Esthesia philologica: (variações pronominaes). Belém: Imprensa Official do Estado do Pará, 1909. 76 p.\n",
      "MOURA, Ignacio. Ensaios de educação moral e civica. Belém: Officinas Graphicas do Instituto Lauro Sodré, 1928. 52 p.\n",
      "BARREIROS, Tito Livio. A Concessão Ford e o governador Dionysio Bentes: collectanea de artigos publicados em defesa do governador Dionysio Bentes, sobre a entrevista concedida a \"Gazeta de Noticias\", do Rio de Janeiro, pelo senador Sousa Castro, em torno da concessão Ford. Belém, PA: Officinas Graphicas do Instituto Lauro Sodré, 1928. 184 p.\n",
      "CHERMONT, Olympio Leite. Casas para proletarios: breve estudo. Belém, PA: Typ. da Imprensa Official, 1899. 35 p.\n",
      "VIANNA, Arthur. As Epidemias no Pará. Pará: Imprensa do Diario Official, 1906. iii, 157 p.\n",
      "BENJAMIN, André Curcino. Indice ou Repertorio geral das leis da Assembléa Legislativa Provincial do Gram Pará: (1838 - 1853). Pará: Typ. Commercial de A. J. R. Guimarães, 1854. 68 p.\n",
      "BAENA, Manoel. Indice alphabético da legislação da Provincia do Pará: de 1880 a 14 de novembro de 1889. Belém: Typ. do Diario Official, 1895. 204 p.\n",
      "BAENA, Manoel (Coord.). Indice alphabetico da legislação do Estado do Pará: (15 de novembro de 1889 a 1893). Belém: Typ. do \"Diario Official\", 1894. 112 p.\n"
     ]
    }
   ],
   "source": [
    "url7 = requests.get('http://177.74.60.161/acervodigital_obrasraras/livro/index.php?busca=.&pagina=7')\n",
    "bs7 = BeautifulSoup(url7.text, 'html.parser')\n",
    "buch = bs7.find_all('h2')\n",
    "\n",
    "for pg7 in buch:\n",
    "    print(pg7.text)"
   ]
  },
  {
   "cell_type": "code",
   "execution_count": 30,
   "metadata": {},
   "outputs": [
    {
     "name": "stdout",
     "output_type": "stream",
     "text": [
      "AZEVEDO, José Eustáquio de. Antologia amazônica: poetas paraenses. Belém: Conselho Estadual de Cultura, 1970. 300 p.\n",
      "LABRE, A. R. P. Itinerario de exploração do Amazonas à Bolivia. Belém: Typ. D' A Provincia do Pará, 1887. 42 p.\n",
      "REIS, Francisco Parahybuna dos. Exploração e exame do rio Tocantins. Pará: Typ. de Frederico Rhossard, 1864. 26 p.\n",
      "PENNA, Domingos Soares Ferreira. Obras completas de Domingos Soares Ferreira Penna. Belém, PA: Conselho Estadual de Cultura, 1973. 342 p.\n",
      "PINHEIRO, Cezar. Cultura do tabaco: breves noções ou modo de bem fabrical-o. Pará: Typ. Encadernação de P. Barbosa, 1894. vi, 33 p.\n",
      "COSTA, Candido. A Fundação de Belém: reivindicação historica consoante a narrativa do historiador portuguez Bernardo Pereira de Berredo, que fôra governador e capitão general do Estado do Maranhão, nos annos de 1718-1722. Belém: Typographia da Livraria Loyola, 1915. 36 p.\n",
      "FEDERAÇÃO BRASILEIRA DAS SOCIEDADES DE ASSISTENCIA AOS LAZAROS E DEFESA CONTRA A LEPRA. Campanha da Solidariedade: (em pról da construcção do Preventorio para filhos sadios dos Lazaros, no Pará. Belém, PA: Papelaria Loyola, 1939. 39 p.\n",
      "COSTA, Antônio de Macedo. Discurso pronunciado pelo excellentissimo senhor D. Antonio de Macedo Costa, bispo do Pará: na solemne inauguração da Bibliotheca Pública fundada na mesma província no dia 25 de março de 1871. Pará: Typographia do Diario do Gram-Pará de F.C. Rhossard, 1871. 16 p.\n",
      "CEZAR, Elyseu Elias. Primeira conferencia publica: da serire instituida pelo director geral da instrucção publica , do Estado do Pará, no intuito de desenvolver o ensino civico ministrado no seio das escolas. Belém: Imprensa Official, 1900. 20 p.\n",
      "HURLEY, Jorge. A Cabanagem. Belém: Clássica, 1936. 449 p.\n",
      "BARATA, Manuel. A Antiga producção e exportação do Pará: estudo historico-economico. Belém: Typ. da Livraria Gillet, 1915. v, 47 p.\n",
      "BANQUETE na inauguração dos trabalhos para a illuminação a gaz, em 19 de outubro de 1863: offercido ao presidente da provincia, o Exm. Sr. Dr. Francisco Carlos de Araujo Brusque. Pará: Typographia do Jornal do Amazonas, 1863. 38 p.\n",
      "RÊGO, Clóvis Morais. Obras de Domingos Antônio Raiol: Barão de Guajará. Belém, PA: Conselho Estadual de Cultura, 1971. 18 p.\n",
      "CATHECISMO do Gr. de Appr. do rito Adhoniramita: organizado especialmemte para uso exclusivo dos oob. da Aug. Benem. e Subl. Loj. Cap. Aurora, Benf. da Ord., por um ir. Benem. do quadr., gr. 12. Belém, PA: [s.n], 1920. 12 p.\n",
      "PARÁ; Governo do Estado. Programmas de ensino da escola normal dos 1º, 2º, 3º e 4º annos. Belém: Typ. do Diario Official, 1903. 27 p.\n",
      "PARÁ; Governo do Estado. Programmas de ensino da escola normal. Belém: Imprensa Official do Estado, 1919. 33 p.\n",
      "PARÁ; Governo do Estado. Programma de ensino da escola normal. Belém: Imprensa Official do Estado do Pará, 1918. 29 p.\n",
      "PARÁ; Governo do Estado. Programma de ensino da escola normal. Belém: Imprensa Official do Estado, 1917. 33 p.\n",
      "CUNHA. Raymundo Cyriaco Alves da. Paraenses ilustres. 3 ed. Belém; Conselho Estadual de Cultura. 1970. 172 p. il. (Coleção \"História do Pará. Série Barão de Guajará)\n",
      "CUNHA, Raymundo Cyriaco Alves da. Paraenses illustres. Paris: Jablonski, Vogt, 1896. 124 p.\n"
     ]
    }
   ],
   "source": [
    "url8 = requests.get('http://177.74.60.161/acervodigital_obrasraras/livro/index.php?busca=.&pagina=8')\n",
    "bs8 = BeautifulSoup(url8.text, 'html.parser')\n",
    "buch = bs8.find_all('h2')\n",
    "\n",
    "for pg8 in buch:\n",
    "    print(pg8.text)"
   ]
  },
  {
   "cell_type": "code",
   "execution_count": 31,
   "metadata": {},
   "outputs": [
    {
     "name": "stdout",
     "output_type": "stream",
     "text": [
      "SASS, Roselis von. Navigation aérienne: la direction des ballons, théories et découvertes. Pará: Typ. du Diario Official, 1893. ii, 76 p.\n",
      "SILVA, Jeronymo Thomé da. Carta pastoral sobre as obras pias e sagração da cathedral da diocese. Pará: Typ. de Tavares Cardoso, 1892. 47 p.\n",
      "HUBER, Jacques. O Córte da seringueira. Pará: Tavares Cardoso, 1913. 11 p.\n",
      "QUATRO anos de govêrno do Dr. José C. da Gama Malcher: 1935 - 1939. Belém: Oficinas Graficas do Instituto Lauro Sodré, 1939. 10 p.\n",
      "PENNA, D.S. Ferreira. Notícia geral das comarcas de Gurupá e Macapá. Pará: Typ. do Diario do Gram-Pará, 1874. 33 p.\n",
      "O PARÁ na exposição universal de Paris em 1889. Belém: Typ. de Pereira & Faria, 1890. 86 p.\n",
      "O PARÁ em 1832. Londres: S. W. Sustenance, 1832. 101 p.\n",
      "CAMPOS, João Baptista Gonçalves. Apologia de João Baptista Gonçalves Campos: conego da cathedral do Pará, atualmente prezo no Rio de Janeiro:para servir de refutação às grosseiras calumnias com que se tem esforçado os inimigos do imperador e do Brasil à deprimir o bem merecido conceito d'aquelle virtuozo varão. Rio de Janeiro: Typographia do Diario, 1824. 30 p.\n",
      "FARIA, Nogueira de. Instrucção e educação moral e civica: pelo despertar da juventude. Belém, PA: Graphica Selecta, [1927]. 406 p.\n",
      "FARIA, Nogueira de. Uma advertencia ao meu paiz. Belém, PA: Instituto D. Macedo Costa, 1932. 98 p.\n",
      "FARIA, Nogueira de. A Caminho da nova éra. Belém, PA: Officinas Graphicas do Instituto Lauro Sodré, 1938. 129 p.\n",
      "FARIA, Nogueira de. A Caminho da História: subsídio para a história política administrativa do Pará. Belém, PA: Oficinas Gráficas do Instituto Lauro Sodré, 1945. 172 p.\n",
      "ALVES, Francisco Ferreira de Vilhena. Selecta litteraria. 2.ed. Pará: R. L. Bittencourt, 1900. 95 p.\n",
      "FARIA, Francisco Raimundo Correia de. Compendio da lingua brazilica: para uzo dos que a ella se quizerem dedicar. Pará: Typ. de Santos e Filhos, 1858. iii, 28 p.\n",
      "VIANNA, Arthur. O Instituto Gentil Bittencourt: o esboço histórico. Pará: Typ. e Encadernação do Instituto Lauro Sodré, 1906. 115 p.\n",
      "BRAGA, Theodoro. O municipio de Breves (1738-1910): monographia organisada com o estudo feito sobre documentos officiaes e obras vulgarisadas. Belém, PA: G. de Torres, 1911. 266 p.\n",
      "J. M. Curso primario de arithmetica elementar: visando um curso secundario de arithmetica e contabilidade commerciaes. Belém, PA: Livraria Gillet, 1907. 175 p.\n",
      "RIBEIRO, De Campos. Em louvor do heroísmo e da vitoria. [Belém]: Officinas Graphicas do Instituto Lauro Sodré, [19--]. 30 p.\n",
      "HURLEY, Jorge. Rio Gurupy: (terceiro capítulo inédito do livro Nos sertões do Gurupy, publicado em 1928). Belém, PA: Officinas Graphicas do Instituto D. Macedo Costa, 1928. Belém, PA: 42 p.\n",
      "HURLEY, Jorge. Nos sertões do gurupy. Belém, PA: Officinas Graphicas do Instituto Lauro Sodré, 1928. Belém, PA: 70, iv p.\n"
     ]
    }
   ],
   "source": [
    "url9 = requests.get('http://177.74.60.161/acervodigital_obrasraras/livro/index.php?busca=.&pagina=9')\n",
    "bs9 = BeautifulSoup(url9.text, 'html.parser')\n",
    "buch = bs9.find_all('h2')\n",
    "\n",
    "for pg9 in buch:\n",
    "    print(pg9.text)"
   ]
  },
  {
   "cell_type": "code",
   "execution_count": 32,
   "metadata": {},
   "outputs": [
    {
     "name": "stdout",
     "output_type": "stream",
     "text": [
      "LOBAO JUNIOR, Eduardo Leger. Ainda a lepra: heredo- contagio da lepra: vias de transmissão da lepra: isolamento dos leprosos. [Belém]: Typ. de Tavares Cardoso, 1900. 98 p.\n",
      "BAENA, Antônio Ladislau Monteiro. Discurso ou memoria sobre a intrusao dos francezes de Cayena nas terras do Cabo do Norte em 1836. Maranhão: Typographia da Temperança, 1846. 26 p.\n",
      "REIS, Arthur Cezar Ferreira. Lobo d'Almada: um estadista colonial. 1.ed. Manaus, AM: [s.n.], 1940. 290 p.\n",
      "LADISLAU, Alfredo. Scenas da vida paraense: ligeiros contos. Belém, PA: Typ. da Imprensa Official, 1904. 154 p.\n",
      "SANTA ROSA, Henrique. Belem e sua topographia: conferencia realizada, a 15 de junho de 1924, na Universidade Livre do Pará. Belém, PA: J. B. dos Santos, 1924. 37 p.\n",
      "PARÁ. Regulamentos do lyceu paraense e escola normal: Decreto n.798 e 809 de 25 de janeiro de 1900. [Belém]: Imprensa Oficial do Estado 37, 34 p.\n",
      "LOBÃO JUNIOR, Eduardo Léger. A medicina em Belém: o mesticismo na sociedade belenmense. Pará: Typ. de Tavares Cardoso, 1901. 113 p.\n",
      "ANNUARIO de Belém: em commemoração do seu tricentenario 1616-1916: historico, litterario e commercial. Pará: Imprensa Official, 1915. 206 p\n",
      "CRUZ, Ernesto. A estrada de ferro de Bragança: visão social, econômica e política. Belém, PA: SPVEA, 1955. 158 p.\n",
      "PARÁ. Conselho Superior do Ensino Primário. Programmas de ensino, revistos e mandados adoptar pelo Conselho Superior do Ensino primario em 1929. Belém, PA: Officinas Graphicas do Instituto Lauro Sodré, 1929. 49 p.\n",
      "D'OLIVEIRA, Agostinho Monteiro Gonçalves. Chronica de Igarapé-Miry. Belém, PA: Typ. e encadernação do Instituto Lauro Sodré, 1904. 33 p.\n",
      "D'OLIVEIRA, Agostinho Monteiro Gonçalves. Chronica de Igarapé-Miry. Belém, PA: Typ. da Imprensa Official, 1899. 28 p.\n",
      "VIANNA, Arthur. A Villa do Pinheiro: notas históricas. Pará: Typ. e Enc. do Instituto Lauro Sodré, 1906. 37 p.\n",
      "ARAÚJO, Heraclides Cesar de Souza. Lazaropolis do prata: a primeira colonia agricola de leprosos fundada no Brasil. Belém, PA: Departamento Nacional de Saúde Pública, Empreza Graphica Amazonia, 1924 186 p.\n",
      "PARÁ. Leis, decretos etc. Estatutos do Instituto de Protenção e Assistência a Infância: fundado em 6 de outubro de 1912. Belém: Imprensa Official do Estado do Pará, 1913. 12 p.\n",
      "MUNIZ, João de Palma. O Instituto Santo Antonio do Prata: (município de Igarapé-Assú). Belém, PA: Typ. da Livraria Escolar, 1913. 82 p.\n",
      "LAGE, Sandoval. Mulheres da época. Belém, PA: Officinas Graphicas do Estado do Pará, 1927. 60 p.\n",
      "REIS, Artur César Ferreira. Monte Alegre: aspectos de sua formação histórica. Belém, PA: [s.n.], 1949. 72 p.\n",
      "LOBÃO JUNIOR, Eduardo Léger. Cavacos medicos: (clinico - therapeuticos). Belém, PA: Seção de Obras d'A Província do Pará, 1906. 75 p.\n",
      "PARÁ. Programmas de estudos primarios para as escolas nocturnas. Belém, PA: Officinas Graphicas do Instituto D. Macedo Costa, 1933. 14 p. \n"
     ]
    }
   ],
   "source": [
    "url10 = requests.get('http://177.74.60.161/acervodigital_obrasraras/livro/index.php?busca=.&pagina=10')\n",
    "bs10 = BeautifulSoup(url10.text, 'html.parser')\n",
    "buch = bs10.find_all('h2')\n",
    "\n",
    "for pg10 in buch:\n",
    "    print(pg10.text)"
   ]
  },
  {
   "cell_type": "code",
   "execution_count": 33,
   "metadata": {},
   "outputs": [
    {
     "name": "stdout",
     "output_type": "stream",
     "text": [
      "PARÁ. Directoria da Instrucção Publica Primaria. Programma para os exames de estudos primários. Belém, PA: Typ. da Imprensa Official, 1920. 12 p.\n",
      "PARÁ. Direcção Geral da Instrucção Publica. Ensino primario: regulamento escolar programmas, horario e instrucções pedagogicas para as escolas publicas do Estado do Pará. Belém, PA: Imprensa de T. Cardoso, 1890. 45 p.\n",
      "PINHEIRO, Cezar. Arithmetica primaria: aprovada e mandada adoptar pelo Conselho Superior de Instrução Pública do estado do Pará. 2. ed., corr. e augm. Belém, PA: Livraria Moderna, 1902. 78 p.\n",
      "BIBAS, Ester Nunes. Rimas do coração: poesias. Belém, PA: H. Barra, 1958. 67 p.\n",
      "CAMPOS, Americo de. Noções geraes de hygiene. [Belém]: P. de Oliveira, 1912. 207 p., iv\n",
      "D'OLIVEIRA, Jeronymo José. Regras metricas ou preceitos indispensaveis sobre o systema francez de pesos e medidas ao alcance de todos.... 2. ed. Paris: Guillard, Aillaud, 1898. ii, 88 p.\n",
      "BUARQUE, Manoel. O Amapá: Altamira, Pará, em 1923. Belém, PA: Papelaria Suisso, 1925. 98 p.\n",
      "BRAGA, Theodoro. A fundação da cidade de Nossa Senhora de Belém do Pará: estudos e documentos para a execução da grande téla historica pintada pelo autor e encomendada pelo benemerito intendente municipal de Belém. Belém, PA: Secção de Obras d'A Província do Pará, 1908. 94 p.\n",
      "BRASIL, Raymundo Pereira. O Rio Tapajós na exposição nacional de borracha de 1913 no Rio de Janeiro. Belém, PA: [s.n.], 1913. 105 p.\n",
      "SIMÕES, Fulgencio Firmino. Município de Alemquér: seu desenvolvimento moral e material e seu futuro : estudos históricos e geographicos. Belém, PA: Typ. e Enc. da Livraria Loyola, 1908. 200 p.\n",
      "BRASIL, RAYMUNDO PEREIRA. Os sertões do rio Tapajos. Itaituba: Seção de Obras d'A Província do Pará., 1910. 138 p.\n",
      "AMAZONIA: escritorio de emigración de españa y las islas Baleares y canarias al Estado del Pará en La República del Brasil. Galicia: J. Barreras, [18--?]. 56 p.\n",
      "EL PARÁ Estados Unidos do Brasil: espanoles leed este folleto antes de imigrar. Barcelona: Tipografia La Acadêmica, 1895. 136 p.\n",
      "FREITAS, Joaquim Pedro Corrêa de. Paleographo ou Arte de aprender á ler a lettra manuscrita;: para uso das escolas da Amazônia. Paris: Jablonski, [1871?]. iv, 111 p.\n",
      "ALVES, Francisco Ferreira de Vilhena. Miscellanea litteraria: coleção de artigos. Belém, PA: R. L. Bittencourt, [18--?]. 183 p.\n",
      "BIBAS, Ester Nunes. Páginas brasileiras: (seleta) : quinto ano primário. São Paulo: Editora do Brasil, 1957. 142 p. (Coleção Didática de Minas Gerais; Série Primária ; 21).\n",
      "VERÍSSIMO, José. Scenas da vida amazonica. Rio de Janeiro: Laemmert, 1899. 375 p.\n",
      "MUNIZ, João de Palma. Legislação de terras: dados estatísticos. 1. ed. Belém, PA: Officinas Graphicas do Instituto Lauro Sodré, 1924. 70 p.\n",
      "ARAÚJO, Heraclides Cesar de Souza. A prophylaxia rural no Estado do Pará. Belém, PA: Typ. da Livraria Gillet, 1922. 522 p.\n",
      "CACCAVONI, Arthur. O Pará commercial: na exposição de Paris. [Belém?]: [s.n.], 1900. 117 p.\n"
     ]
    }
   ],
   "source": [
    "url11 = requests.get('http://177.74.60.161/acervodigital_obrasraras/livro/index.php?busca=.&pagina=11')\n",
    "bs11 = BeautifulSoup(url11.text, 'html.parser')\n",
    "buch = bs11.find_all('h2')\n",
    "\n",
    "for pg11 in buch:\n",
    "    print(pg11.text)"
   ]
  },
  {
   "cell_type": "code",
   "execution_count": 34,
   "metadata": {},
   "outputs": [
    {
     "name": "stdout",
     "output_type": "stream",
     "text": [
      "PROENÇA, Raymundo; NASCIMENTO, Silvio. Noções de historia patria: adoptadas nas escolas publicas do estado do Pará : 3º anno do curso elementar. 3. ed., rev. e augment. Belém, PA: Officinas Graphicas do Instituto Lauro Sodré, 1926. 48 p. il\n",
      "TAVARES, Luiz Demétrio Juvenal. Serões da mãe preta. Pará: Typographia de Alfredo Silva, Secretaria de Estado da Cultura, 1897. xi, 101 p.\n",
      "VERÍSSIMO, José. Noticia geral sobre o collegio Americano. Nova ed. acres. emen. Pará: Collegio Americano, 1888. 61 p.\n",
      "CARVALHO, Antonio de. O Congresso político em 1903. Belém, PA: Secção de Obras d'A Província do Pará, 1904. 157 p.\n",
      "PARÁ. Assembléia Legislativa da Província. Falla com que o Exm. Sr. Dr. João Capistrano Bandeira de Mello Filho abrio a 2ª sessão da 20ª legislatura da Assembléa Legislativa da Província do Pará em 15 de fevereiro de 1877. 1. ed. Belém, PA: Typ. do Livro do Commercio, 1877. 190, lxviii p.\n",
      "BRITO, Paulino de. Gramática primária da língua portuguesa: para uso das escolas. 31. ed. Belém, PA: Falangola, 1959. 93 p.\n",
      "BRITO, Paulino de. Gramática primaria da língua portuguesa: para uso das escolas. 26. ed. Belém, PA: [s.n.], [1943?]. 84 p.\n",
      "BRITO, Paulino de. Grammatica complementar da lingua portugueza. 7. ed. . Belém, PA: Papelaria Suisso, 1928. vii, 137 p.\n",
      "FERNANDEZ, Remigio. Sol de outono. Belém, PA: Officinas Graphicas da Livraria Clássica de J. B. dos Santos, 1922. 105 p.\n",
      "FERNANDEZ, Remigio. Selva. Belém, PA: Imprensa Official do Estado, 1919. 102, ii p.\n",
      "FERNANDEZ, Remigio. Ocaso. Belém, PA: Ofs. Grafs. Revista da Veterinária, 1941. 119 p.\n",
      "CARVALHO, José. Os Jangadeiros cearenses em \"raid\" ao Pará: conferencia sobre o \"folk-lore\" cearense em homenagem aos jangadeiros no Theatro da Paz, no dia 14 de setembro de 1928. Belém, PA: Officinas Graphicas do Instituto Lauro Sodré, 1928. 44 p.\n",
      "REGO FILHO, José Pereira. A Amazônia e o seu porvir: a Amazônia no passado, seu povoamento; o que tem sido e o que cumpre ser. Rio de Janeiro: D. de Magalhães, [1899]. 124 p.\n",
      "FABRICA Palmeira: grande manufactura de biscoutos-chocolates-caramellos bombons finos-amendoas confeitadas-doces finos-assucar refinado café da melhor qualidade-massas alimenticias-pão typo parisiense fabricação mechanica de saccos de papel em grande escala. Belém, PA: [Graphica Amazonia], [19--?]. Não paginado\n",
      "MENDONÇA, Deodoro Machado. Pelo Tocantins paraense: uma viagem a Marabá. Belém, PA: Officinas Graphicas do Instituto Lauro Sodré, 1927. 104 p.\n",
      "GYMNASIO PAES DE CARVALHO. Programmas de ensino. Belém, PA: Imprensa Oficial do Estado do Pará, 1913. 156 p.\n",
      "FIGUEIREDO, José de Castro. Cartographia escolar: para uso nas escolas primárias. Torino: L. Simondetti, 1898. 2 pt. (98, 100) p.\n",
      "MARAJÓ, José Coelho da Gama e Abreu Barão de. As regiões amazônicas: estudos chrorographicos dos Estados do Gram Pará e Amazônas. Lisboa, Portugal: Imprensa de L. da Silva, 1896. 404 p.\n",
      "CUNHA, Raymundo Cyriaco Alves da. Pequena chorographia da Província do Pará. Belém, PA: [s.n.], 1887. 85 p.\n",
      "AMANAJÁS, Hygino, d.m. 1921. Noções de educação civica: para uso das escolas. Belém, PA: Imp. na Typ. do Diario Official, 1898. viii, 120 p.\n"
     ]
    }
   ],
   "source": [
    "url12 = requests.get('http://177.74.60.161/acervodigital_obrasraras/livro/index.php?busca=.&pagina=12')\n",
    "bs12 = BeautifulSoup(url12.text, 'html.parser')\n",
    "buch = bs12.find_all('h2')\n",
    "\n",
    "for pg12 in buch:\n",
    "    print(pg12.text)"
   ]
  },
  {
   "cell_type": "code",
   "execution_count": 35,
   "metadata": {},
   "outputs": [
    {
     "name": "stdout",
     "output_type": "stream",
     "text": [
      "MORAES, José de. Memórias para a história do extincto estado do Maranhão: cujo território comprehende hoje as províncias do Maranhão, Piauhy, Grão-Pará e Amazonas. Rio de Janeiro: Typographia do Commercio, de Brito & Braga, 1860. xii, 554 p.\n",
      "BAENA, Manuel. Informações sobre as comarcas da Província do Pará. Belém, PA: Typ. de F. da Costa Júnior, 1885. iii; 68 p.\n",
      "ATHENEU BENJAMIN CONSTANT (PA). Estatutos. Belém, PA: Papelaria Americana, [19--?]. 21 p.\n",
      "MARTINS, Max. O Estranho: poemas. [s. l.]: [s.n.], 1952. 29 p.\n",
      "BAENA, Antônio Ladislau Monteiro. Biographia de João Sanches Monteiro Baena. Rio de Janeiro: Typographia de Santos & Filhos, 1848. xx, 180, 5 p.\n",
      "AMANAJÁS, Hygino. Alma e coração. 2. ed. Belém, PA: Typ. do \"Diario Official\", 1905. 88 p.\n",
      "\n",
      "TAVARES, Alexandre Vaz. A Instrucção pública em 1900: resposta ao prologo da colleção de leis e regulamentos de ensino público organizado em 1901 pelo ex-diretor geral, ex-secretário do governo Augusto Olympio de Araujo e Souza.. Belém, PA: [s.n.], 1902. 100 p.\n",
      "BRAGA, Theodoro. Apostillas de historia do Pará. Belém, PA: Imprensa Oficial do Estado, 1915. 83 p.\n",
      "MATTOSO, Ernesto. O Dr. Augusto Montenegro: sua vida e seu governo. Paris: T. Dussieux, [1907?]. viii, 251 p.\n",
      "MESQUITA, Lindolpho pseud. Zé Vicente; Ciceno Romano. Historias do meu suburbio: chronicas humoristicas. Belém, PA: Ofs. Grafs. Revista da Veterinária, 1941. 118 p.\n"
     ]
    }
   ],
   "source": [
    "url13 = requests.get('http://177.74.60.161/acervodigital_obrasraras/livro/index.php?busca=.&pagina=13')\n",
    "bs13 = BeautifulSoup(url13.text, 'html.parser')\n",
    "buch = bs13.find_all('h2')\n",
    "\n",
    "for pg13 in buch:\n",
    "    print(pg13.text)"
   ]
  },
  {
   "cell_type": "code",
   "execution_count": 36,
   "metadata": {},
   "outputs": [
    {
     "name": "stdout",
     "output_type": "stream",
     "text": [
      "Revista Familiar\n",
      "O ensino: revista mensal de pedagogia, literatura, artes e officios 1918 - 1919. Belém: Officinas Instituto Lauro Sodré.  453 p.\n",
      "Atualidades: Boletim Departamento de Imprensa e Propaganda do Pará.\n",
      "Revista Commercial do Pará\n",
      "Gol: revista semanal do esporte paraense\n",
      "A gleba ilustrada. Capanema: [s.n.], n.3, abril, 1950. 32 p.\n",
      "Revista da Veterinária\n",
      "Amazônia: revista da planície para o Brasil\n",
      "Boletim da Associação Comercial do Pará\n",
      "Victoria Regia\n",
      "A Lavoura Paraense\n",
      "Pará Agrícola Industrial e Comercial\n",
      "Estudio: revista do artista paraense\n",
      "Revista de Farmacia e Bioquimica da Amazonia\n",
      "ANAIS da Biblioteca e Arquivo Público do Pará, t. 9. Belém: Typ. e encadernação do Instituto Lauro Sodré, 1916. 787 p.\n",
      "A Penna. Belém: Typographia delta, n.1, v.1, julho 1911. 26 p.\n",
      "AMAZONIA BRASILEIRA: mensário de turismo e expansão cultural e econômica. Belém: Typ. do Comercio, n.4, v.1, jun.. 1930. 27 p.\n",
      "Pará Illustrado\n",
      "Boletim da escola de chimica industrial, n.1, 1929. 158p. (Associação commercial do Pará)\n",
      "Revista da Associação Comercial do Pará, n.20-21, v.5, jul.,- dez., 1940. 80p.\n",
      "O Artificie, n.25, v.20, 3 jan. 1946. 59p.\n",
      "Informativo da UFPA: edição histórica, junho 1977. 56p.\n",
      "FLIRT: revista ilustrada, n.11, v.1, janeiro, 1931. 104p.\n",
      "Boletim Official da Instrucção Pública do Estado do Pará. Tomo I, n.1, março - maio, 1905. Belém: Impresa official, 1905. 85p.\n",
      "Guajarina\n",
      "Escola: revista do professorado do Pará\n",
      "CEPC Informativo, n.3, v.1, out. 1945. 30p.\n",
      "Belém Nova\n",
      "Encontro. Belém: Oficinas Gráficas de \"A Província do Pará\", n.1, 2 Trimestre de 1948. 62 p.\n",
      "Revista da Faculdade Livre de Direito do Estado do Pará. Belém: Typ. e encadernação do Instituto Lauro Sodré, 1909 - Anual.  182 p.\n",
      "Norte Odontológico, n.1, v.1, março, 1917. 42p.\n",
      "O Record: revista illustrada, n.10, v.1, dez. 1918. 40p.\n",
      "Revista da Semana, n.436, v.13, set. 1908. 74 p.\n",
      "A Semana: Revista Illustrada\n",
      "Revista do Ensino\n",
      "A Escola: revista oficial de ensino\n",
      "Terra Imatura\n",
      "Pará Médico\n",
      "Revista de Educação e Ensino\n",
      "A Cigarra. Belém:[s.n.]. n.1, v.3, jan. 1921. 10 p.\n"
     ]
    }
   ],
   "source": [
    "urlH = requests.get('http://177.74.60.161/acervodigital_obrasraras/hemeroteca/index.php?busca=.')\n",
    "bsH = BeautifulSoup(urlH.text, 'html.parser')\n",
    "buch = bsH.find_all('h2')\n",
    "\n",
    "for pgH in buch:\n",
    "    print(pgH.text)"
   ]
  },
  {
   "cell_type": "code",
   "execution_count": 37,
   "metadata": {},
   "outputs": [
    {
     "name": "stdout",
     "output_type": "stream",
     "text": [
      "PARÁ. [Leis etc.].; Decreto - Lei n° 4505 de 30 de dezembro de 1943. Pará: Oficinas gráficas do Instituto Lauro Sodré, 73 p. 1944.\n",
      "PARÁ. [Leis etc.].; CARVALHO, José Paes de. A Instrucção publica: sob a administração do Exm. Sr. Dr. José Paes de Carvalho, governador do Estado. Pará: Imprensa Official, 1900. Não paginado\n",
      "PARÁ. Estado do. Programma de ensino da escola normal do 1°, 2°, 3° e 4° annos. Belém: Imprensa Oficcial, 1905.  25 p.\n",
      "PARÁ, Governo do Estado. Actos e decisões do Governo do Pará de 1891. Belém: Typ. do Diário Official, 1891. 273 p.\n",
      "BELÉM. Governo Municipal. Leis e Decisões do Conselho e Actos e Decisões do Executivo Municipal do anno de 1913, codificados na administração do Senador Dr. Antonio Martins Pinheiro, Intedente Municipal. Belém: Papelaria Americana, 1918. 188 p.\n",
      "BELÉM. Governo Municipal. Leis e Decisões do Conselho e Actos e Decisões do Executivo Municipal do anno de 1916, codificados na administração do EXM°. Sr. Senador Dr. Cypriano José Santos, Intedente Municipal. Belém: [S.n.], 1916. 175 p. (Vol. IV).\n",
      "LEI e regulamento da reforma hypothecaria estabelecendo as bases das sociedades de credito real. [S.l.]: Typ. do Jornal do Amazonas, 1865. 104 p.\n",
      "PARÁ, Governo do Estado. Actos e decisões do governo 1897. Belém: Typ. do Diário Official, 1899. 433 p.\n",
      "PARÁ, Governo do Estado. Actos do Poder Executivo do Pará. Belém: Typ. do Diário Official, 1897. 433 p.\n",
      "PARÁ, Estado. Decretos e decisões de 1903. Belém: Impressa Oficial, 1906. 257 p.\n",
      "COLLECÇÃO das leis da Provincia do Gram-Pará - Tomo XXX. Belém: Typ. do Diário do Gram-Pará, 1869. (Primeira e Segunda Partes).\n",
      "COLLECÇÃO das Leis da Provincia do Gram-Pará Anno 1880. Belém: Typ. do Diario de Noticias, 1882. 224 p. (Tomo XLII).\n",
      "COLLECÇÃO das Leis da Provincia do Gram-Pará - Parte Primeira - Tomo XLIII - Anno 1881. Belém Typ. do Diario de Noticias, 1882. 224 p. \n",
      "PARÁ. Governo do Estado. Actos do Poder Executivo do Pará. Belém: [S.n.]., 1890. 358 p.\n",
      "COLLEÇÃO das Leis da Província do Pará do anno de 1888. Belém: Typ. de A Fructuoso da Costa, 1889. (Tomo L). 84 p.\n",
      "BELÉM. Conselho Municipal. Leis e Resoluções Municipaes 1898 Codificados na administração Municipal do Senador Antonio José de Lemos. Pará: Typographia DO Pará, 1899. 106 p.\n",
      "BELÉM. Governo Municipal. Leis e Resoluções Municipaes e Actos do Exexcutivo 1907 Codificados na administração do Senador Antonio José de Lemos. Belém: Secção de Obras DA Província do Pará, 1908. 141 p.\n",
      "REGIMENTO interno do Conselho Superior de Instrucção Publica approvado pelo Decreto n. 1313 de 9 de Junho de 1904. Belém: Typ. do Diario Official, 1904. 12 p.\n",
      "COLLECÇÃO das leis da Província do Gram - Pará - Tomo XXXIII - 1871 . Parte 1. Typographia do Diário do Gram-Pará: Belém, 1871. 163 p. \n",
      "PARÁ. Estado. Decreto n. 1207 de 2 de abril de 1903. Reforma a Escola Nornal. Belém: Typ. do Diario Official, 1903. 38 p.\n",
      "PARÁ. Estado.  Decreto n. 840 de 12 de janeiro de 1933. Dispõe sobre os Accidentes de Trabalho e dá outras providencias. Belém: Officinas Graphicas do Instituto D. Macedo Costa, 1933. 12 p.\n",
      "PARÁ. Estado. Regulamento da Directoria Geral da Instrucção Publica do Estado do Pará. Decreto n. 477 de 13 de Setembro de 1897  Reorganisa a directoria da instrucção pública. Belém: Typ. do Diario Oficial, 1897. 11 p.\n",
      "PARÁ. Estado. Decreto n. 71 - Orça a Receita e fixa a Despesa do Município de Cachoeira para o exercício financeiro de 1938. Belém: Officinas Graphicas do Instituto Lauro Sodré, 1938. 23 p. \n",
      "PARÁ. Estado. Decreto n.1 - Aprovado pelo Exmo. Snr. Dr. Interventor Federal e publicado no Diario Oficial do Estado. Orça a Receita e fixa a Despesa do Municipio de Muaná para o exercício financeiro de 1939. Belém: Officinas Graphicas da Papelaria Americana, 1939. 34 p. \n",
      "PARÁ. Estado. Decreto n.7 - Orça a Receita e fixa a Despesa do Município de Abaeté para o exercício financeiro de 1939. Belém: Oficinas Gráficas do Instituto Lauro Sodré, 1939. 32 p.\n",
      "PARÁ. Estado. Decreto n. 1 aprovado pelo Exmo. Snr. Dr. Interventor Federal e publicado no Diario Oficial do Estado. Orça a Receita e fixa a Despesa do Município de Porto de Móz para o exercício financeiro de 1939. Belém: Officinas Graphicas da Papelaria Americana, 1939. 32 p.\n",
      "PARÁ. Estado. Decreto n. 1 aprovado pelo Exmo. Snr. Dr. Interventor Federal e publicado no Diário Oficial do Estado. Orça a Receita e fixa a Despesa do Município de Prainha para o Exercicio financeiro de 1939. Belém: Officinas Graphicas da Papelaria Americana, 1939. 31 p.\n",
      "PARÁ. Estado. Decreto n.1 aprovado pelo Exmo. Snr. Dr. Interventor Federal e publicado no Diario Oficial do Estado. Orça a Receita e fixa a Despesa do Município de Soure para o exercício financeiro de 1939. Belém: Officinas Graphicas da Papelaria Americana, 1939. 33 p.\n",
      "PARÁ. Estado. Decreto n.1 - Orça a Receita e fixa a Despesa do Município de Vizeu para o exercício financeiro de 1939. Belém: Oficinas Gráficas do Instituto Lauro Sodré, 1939. 22 p.\n",
      "PARÁ. Estado. Decreto n.1 aprovado pelo Exmo. Snr. Dr. Interventor Federal e publicado no Diário Oficial do Estado - Orça a Receita e fixa a Despesa do Município de Maracanã para o exercício financeiro de 1939. Belém: Officinas Graphicas da Papelaria Americana, 1939. 33 p.\n",
      "PARÁ. Leis, decretos, etc. Estatutos da Companhia Urbana de E. de F. Paraense: approvados em sessão de Assembléa Geral extraordinária de 1 de outubro de 1895, co modificações approvadas em Assembléa Geral extraordinária de 27 de abril de 1899. Pará: Typographia Guttenberg de A. G. Pereira, 1900. 22 p.\n",
      "PARÁ. Leis, decretos, etc. Estatutos da Companhia Urbana da Estrada de Ferro Paraense. Pará: Typ. de Pereira e Faria, 1889. 20 p.\n",
      "PARÁ. Leis, decretos, etc. Estatutos da Companhia Urbana da Estrada de Ferro Paraense, approvados pelo Decreto n. 7.550 de 22 de novembro de 1879. [S.l.,s.d]. 14 p.\n",
      "PARÁ. Leis, decretos, etc. Estatutos da Companhia Urbana da Estrada de Ferro Paraense. Pará: Typ.Commercio do Pará, 1886. 14 p.\n",
      "PARÁ. Leis, decretos, etc. Estatutos da Companhia Urbana da Estrada de Ferro Paraense. Pará: Typ. do Diário do Gram-Pará, 1871. 12 p.\n",
      "PARÁ. Leis, decretos, etc. Estatutos da Companhia Urbana de E. de F. Paraense: approvados em sessão de Assembéa Geral extraordinária de 1 de outubro de 1895. Pará: Typographia de A. Silva, 1895. 18 p.\n",
      "BELÉM, Intendência Municipal. Lei n.º 292  Regulamento para o serviço dos boques, parques, jardins e hortos municipaes. Belém: Officinas d A Prováncia, 1903. 15 p.\n",
      "PARÁ. Estado. Coleção de Decretos 1938 - Abril, Maio, Junho, Julho, Agosto, Setembro, Outubro. Belém: Oficinas gráficas do Instituto lauro Sodre, 1938.\n",
      "Decreto n. 1722 de 3 de setembro de 1910  Aprova o programma para os exames de estudos primários no anno de 1910. Belém: Impressa Oficial do Estado do Pará, 1910.  12 p.\n",
      "CONSELHO MUNICIPAL DE BELÉM. Leis  e Resoluções Municipaes (1900). Belém: Typ. de Tavares Cardoso & Ca.  1901.  123p.  (Codificadas na Administração Municipal do Senador Antonio José de Lemos).\n",
      "Decreto n. 1689 de 28 de abril de 1910 - Dá Nova Organização ao Ensino Primário do Estado. Belém: Impressa Oficial do Estado do Pará, 1910.  48 p.\n",
      "Decreto n. 1695 de 30 de maio de 1910 - Aprova os programmas do ensino primário. Belém: Impressa oficial do estado do Pará, 1910.  32p.\n",
      "Decreto n 1352 de 21 de janeiro de 1905 Dá regulamento processual criminal a lei 930 de outubro de 1904. Belém: Typ. Diario official, 1905. 71 p.\n",
      "Collecção das leis da Província do Gram - Pará - Tomo XI - 1849 . Parte 1. Typografia de Santos & Filhos: Belém, 1852.  134 p. \n",
      "Actos do Governo da Província do Gram - Pará do Anno de 1887 - Tomo XLIV. Typ. de A. Fructuoso da Costa: Belém, 1887.  135 p.\n",
      "PARÁ. Estado. Da nova regulamentação ao serviço de terras do estado pelo Decreto n. 1044 de 19 de agosto de 1933. Belém: Typ. Instituto D. Macedo Costa, 1933. 70p.\n",
      "PARÁ. Estado. Regulamento geral do ensino primário reorganizado pelo Decreto n.1190 de 17 de fevereiro de 1903. Belém: Typ. Diário Oficial, 1903. 55p.\n",
      "PARÁ. Estado. Altera o regulamento do ensino primário do Estado pelo Decreto n. 3356 de 7 de maio de 1918. Belém: Typ. Diário Oficial, 1918.  58p.\n"
     ]
    }
   ],
   "source": [
    "urlL = requests.get('http://177.74.60.161/acervodigital_obrasraras/legislacao/index.php?busca=.')\n",
    "bsL = BeautifulSoup(urlL.text, 'html.parser')\n",
    "buch = bsL.find_all('h2')\n",
    "\n",
    "for pgL in buch:\n",
    "    print(pgL.text)"
   ]
  },
  {
   "cell_type": "code",
   "execution_count": 38,
   "metadata": {},
   "outputs": [
    {
     "name": "stdout",
     "output_type": "stream",
     "text": [
      "PARÁ, Estado do. Relatório apresentado ao Governador do Estado Exm.° Dr. Augusto Montenegro pelo Dr. José Paes de Carvalho ao deixar a administração em 1° de fevereiro de 1901. Belém: Imprensa Official, 1901.  123 p.\n",
      "O município de Belém: relatório de Antônio Lemos. 1897  1908\n",
      "RELATÓRIO apresentado ao Sr. Governador Dr. Lauro Sodré pelo Procurador Geral do Estado do Pará Dr. João H. de Oliveira relativo ao serviço do Ministério Público no anno de 1892. Belém: Impresso na Typ. do Diario Official, 1893. 83 p.\n",
      "PARÁ, Estado. Relatório 1899 Segurança Pública. Pará-Milano: F. Chiatti & C. editores, 1899. 22 p. \n",
      "RELATÓRIO apresentado ao Exm. Snr. Governador do Estado Dr. Augusto Montenegro pelo Secretario da Fazenda T.e C.el  Raymundo Cyriaco Alves da Cunha. Belém: Imprensa Official, 1903. 85 p.\n",
      "RELATÓRIO apresentado ao Conselho Municipal de Belém na 1° Sessão da 3° Reunião Ordinária da 8° Legislatura em 1 de junho de 1910 pelo Intendente Senador Antonio José de Lemos. Belém: Seção de Obras d A Província do Pará, 1910. 81 p.\n",
      "PARÁ. Relatório apresentado à Assembleia Legislativa Provincial pelo Visconde de Maracajú (1834?). [S.l.,s.n], [1882]. 128 p.\n",
      "PARÁ. Governador (1897-1901: J. P. de Carvalho). Relatório apresentado ao Exm. Snr. Dr. José Paes de Carvalho Governador do Estado do Pará pelo Desembargador João Hosannah de Oliveira Procurador Geral do Estado. Milano: Chiatti & C., 1899. \n",
      "RELATÓRIO DE 1902: relatório do secretário da justiça, interior e instrucção pública. [S,l; s,n], 1902.  400 p.\n",
      "RELATÓRIO do tesouro Público do Estado do Pará apresentado ao governador exm. Sr. Dr. José Paes de Carvalho pelo inspetor Bernardino de Senna Pinto Marques. Belém: Imprensa Official, 1901. 28 p.\n",
      "PARÁ, Estado. Relatório que o Ex. Sr.Dr. Antonio Coelho de Sá e Albuquerque Presidente da Província do Pará apresentou ao Exm. Sr. Vice Presidente Dr. Fabio Alexandrino de Carvalho Reis ao passar-lhe a administração da mesma provincia em 12 de maio de 1860. Belém: Typographia Commercial de A. J. Rabello Guimarães, 1860. 56 p. \n",
      "PARÁ; Vice Presidente da Provincia (1885-1885: João Lourenço Paes de Andrade).; ARARIPE, Tristão de Alencar. Relatorio que ao Exm. Sr. Dr. João Lourenço Paes de Andrade 1º vice-presidente da provincia do Gram-Pará apresentou ao Exm. Sr. Dr. Carlos Augusto de Carvalho ao passar-lh a administração em 16 de setembro de 1885. Pará: Typ. de Francisco da Costa Junior, 1885. 153, 37, 22 p.\n",
      "PARÁ, Estado. Relatório apresentado ao Sr. Governador do Estado Dr. Lauro Sodré em junho de 1892 pelo Dr. Cypriano Santos inspector da hygiene do Estado. Belém: Typ. do Diário Official, 1892. 28p. \n",
      "MUNIZ, Palma. Relatório sobre a fortaleza de Gurupa. Belém: Officinas graphicas do instituto lauro sodré, 1927.  52 p.\n",
      "PARÁ. Estado. Relatório da Bibliotheca Pública. Milano: F. Chiatt & C., 1899.  54 p.\n",
      "PARÁ. Relatório do thesouro publico do Estado do Pará. Belém: Impressa Oficial. 1901.  28 p. (Relatório Apresentado ao Sr. José Paes de Carvalho  Governador do Estado, pelo Inspetor Bernardino de Sena Pinto Marques).\n",
      "PARÁ. Estado. Relatório do Instituto Gentil Bittencourt. Milano: F. Chiatt & C., 1899.  41 p. \n",
      "PARÁ. Estado. Escola de agricultura e industriaes. Relatório apresentado a S. EX. o SR. DR. José Paes de Carvalho Governador do Estado. Lisboa: Companhia Typographica, 1900.  59p. \n",
      "PARÁ. Relatório e balanço da directoria geral do thesouro publico 1899. Belém: J. Chiatti & C , 1899.  58 p. (Relatório Apresentado ao Sr. José Paes de Carvalho  Governador do Estado).\n",
      "PARÁ. Estado. Relatório apresentado ao Snr. Dr. Secretario de Estado e Justiça, Interior e Instrução Pública por Frei Daniel de Samarate  Diretor do Instituto do Prata (1905). Belém: Typ. Encadernação Instituto Lauro Sodre, 1909.  32p. \n",
      "PARÁ. Relatório apresentado à Assemblea Legislativa da Província do Pará na Primeira Sessão da XIII Legislatura pelo EXMo. SENR. Presidente da Provincia  Dr. Francisco Carlos de Araujo Brusque em 1 de setembro de 1862. Belém: Typ. Frederico Carlos Rhossard, 1862. 91p.\n",
      "PARÁ. Estado. Relatório apresentado ao EX. Sr. Dr. Justo Chermont Governador do Estado pelo Administrado da Impressa Oficial Hygino Amanajás em 1917. Belém: Impressa Oficial, 1917. 17p. \n",
      "A instrucção Pública no Estado do Pará em 1890: relatório apresentado ao Ex Sr. Dr. Justo leite Chermont - Governador do Estado, por José Verissimo - Diretor Geral\n",
      "PARÁ. Estado. Terras e colonisação. Milano: F. Chiatt & C., 1899.  40 p. \n",
      "PARÁ. Estado. Relatório do Instituto Lauro Sodré. Milano: F. Chiatt & C., 1899.  40 p. \n",
      "Relatório apresentado ao Ex. Sr. Angelo Thomaz do Amaral, pelo Primeiro Vice  Governador da  Província do Gram  Pará, o Exm. Sr. Dr. Fabio Alexandrino de Carvalho Reis, em 8 de agosto de 1860. 14 p.\n",
      "Relatório apresentado ao Conselho Municipal de Belém, em Sessão Solene de 20 de maio de 1930, pelo Intendente Municipal, Senador Antonio de Almeida Facióla. 148 p.\n"
     ]
    }
   ],
   "source": [
    "urlR = requests.get('http://177.74.60.161/acervodigital_obrasraras/relatorio/index.php?busca=.')\n",
    "bsR = BeautifulSoup(urlR.text, 'html.parser')\n",
    "buch = bsR.find_all('h2')\n",
    "\n",
    "for pgR in buch:\n",
    "    print(pgR.text)"
   ]
  },
  {
   "cell_type": "code",
   "execution_count": 39,
   "metadata": {},
   "outputs": [
    {
     "name": "stdout",
     "output_type": "stream",
     "text": [
      "Lauro Sodré - Coleção de Cartas _ Narrados por um dos principais personagens políticos da história paraense, A Coleção de Cartas  repletas de letras quase desenhadas  retrata fatos sociais, pessoais e políticos da passagem do século XIX para o século XX. \n"
     ]
    }
   ],
   "source": [
    "urlM = requests.get('http://177.74.60.161/acervodigital_obrasraras/manuscrito/index.php?busca=.')\n",
    "bsM = BeautifulSoup(urlM.text, 'html.parser')\n",
    "buch = bsM.find_all('h2')\n",
    "\n",
    "for pgM in buch:\n",
    "    print(pgM.text)"
   ]
  },
  {
   "cell_type": "code",
   "execution_count": 40,
   "metadata": {},
   "outputs": [
    {
     "name": "stdout",
     "output_type": "stream",
     "text": [
      "ESTADO DO PARÁ. Álbum da polícia civil na administração do Exm.º Sr. Dr. José Carneiro da Gama Malcher Interventor Federal/Chefe de Policia-Bacharel Salvador R. de Borborema 1937-1940. [S.n.,s,l], [1940?]. 72 p.\n",
      "PARÁ. Interventor Federal (1938-1942: J. C. Gama Malcher). Álbum do Pará. Belém: H. Rodrigues, 1939. 268 p. il.\n",
      "PARÁ. (Governador 1901-1909: A. Montenegro). Álbum do Estado do Pará . Paris: Chaponet, 1908. 350 p. il. \n",
      "CACCAVONI, Arthur. Album descriptivo amazonico. Genova: F. Armanino, 1899. V. 2., il.\n",
      "PARÁ. Governador (1897-1901: J. P. de Carvalho). Álbum do Pará em 1899. [S.l.: s.n] [1899]. 159 p. il.\n",
      "Álbum de Fotografias da Biblioteca e Arquivo Público do Estado do Pará na administração de Dr. José Carneiro da Gama Malcher, período de 1935 a 1942, sendo diretor da instituição Dr. Osvaldo de Mendonça Viana.\n",
      "PARÁ. Governador (1901-1909: A. Montenegro). Álbum da festa das creanças: descripções e photographias, 7 de setembro de 1905. Estado do Pará. Paris: Aillaud [19--]. 57 p. il.\n",
      "BELÉM. Intendente Municipal (1898-1911 : A. J. de Lemos). Álbum de Belém: 15 de novembro de 1902. Paris: P. Renouard, 1902. 104 p. il.\n",
      "CACCAVONI, Arthur. Album descrittivo annuario dello stato del Pará 1898: destinato esclusivamente agli stabilimenti finanziarî, industriali commerciali ed ai signori viaggiatori. Genova: F. Armanino [1898?]. 95 p. il.\n"
     ]
    }
   ],
   "source": [
    "urlA = requests.get('http://177.74.60.161/acervodigital_obrasraras/album/index.php?busca=.')\n",
    "bsA = BeautifulSoup(urlA.text, 'html.parser')\n",
    "buch = bsA.find_all('h2')\n",
    "\n",
    "for pgA in buch:\n",
    "    print(pgA.text)"
   ]
  },
  {
   "cell_type": "code",
   "execution_count": 41,
   "metadata": {},
   "outputs": [
    {
     "name": "stdout",
     "output_type": "stream",
     "text": [
      "Resistência \n",
      "A Arena\n",
      "Revista Estudantina. Belém:[s.n]. n.1, v.1, 20 jul. 1890. 8p.\n",
      "O Pimpão, n.25, v.1 janeiro de 1889. Edição Especial\n",
      "O Evoluir. Belém:[s.n.]. n.1, v.1, 15 jan. 1889.  4p.\n",
      "O Aprendiz. Belém:[s.n.]. n.9, v.1, 14 dez. 1890. 4p.\n",
      "O 31 de Agosto. Belém:[s.n.]. 31 ago. 1889.  2 p. Edição Especial.\n",
      "A Patria, n.4, v.1, 18 de agosto de 1890.\n",
      "O Estado do Pará\n",
      "Folha do Norte: Suplemento, Arte, Literatura\n"
     ]
    }
   ],
   "source": [
    "urlJ = requests.get('http://177.74.60.161/acervodigital_obrasraras/jornal/index.php?busca=.')\n",
    "bsJ = BeautifulSoup(urlJ.text, 'html.parser')\n",
    "buch = bsJ.find_all('h2')\n",
    "\n",
    "for pgJ in buch:\n",
    "    print(pgJ.text)"
   ]
  }
 ],
 "metadata": {
  "kernelspec": {
   "display_name": "Python 3",
   "language": "python",
   "name": "python3"
  },
  "language_info": {
   "codemirror_mode": {
    "name": "ipython",
    "version": 3
   },
   "file_extension": ".py",
   "mimetype": "text/x-python",
   "name": "python",
   "nbconvert_exporter": "python",
   "pygments_lexer": "ipython3",
   "version": "3.6.1"
  }
 },
 "nbformat": 4,
 "nbformat_minor": 2
}
